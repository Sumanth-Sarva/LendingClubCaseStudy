{
 "cells": [
  {
   "cell_type": "markdown",
   "id": "20eefed5",
   "metadata": {},
   "source": [
    "## LendingClubCaseStudy\n",
    "\n",
    "\n",
    "The objective of this CaseStudy is to apply EDA methods for understanding the attributes that impact the tendency of `LoanDefaults`."
   ]
  },
  {
   "cell_type": "markdown",
   "id": "41a44a8b",
   "metadata": {},
   "source": [
    "#### Steps in Analysis:\n",
    "\n",
    "- EDA : \n",
    " 1. Data Sourcing.\n",
    " 2. Data Cleaning.\n",
    " 3. Univariate Analysis.\n",
    " 4. Bivariate Analysis.\n",
    " 5. Multivariate Analysis.\n",
    "\n",
    "\n",
    "- Insights/Driving Factors.\n",
    "    \n",
    "    "
   ]
  },
  {
   "cell_type": "code",
   "execution_count": 1,
   "id": "b4cac03d",
   "metadata": {},
   "outputs": [],
   "source": [
    "#Import the necessary libraries for our DataAnalysis\n",
    "import warnings\n",
    "warnings.filterwarnings(\"ignore\")               #to ignore warning messages while execution   \n",
    "\n",
    "import numpy as np, pandas as pd                #for dataframes,operations    \n",
    "import matplotlib.pyplot as plt, seaborn as sns #for plots\n",
    "from datetime import datetime                   #for time related operations/anlysis\n",
    "import seaborn as sns\n",
    "pd.set_option('display.max_colwidth', -1)       #to display the entire value of the cell"
   ]
  },
  {
   "cell_type": "markdown",
   "id": "b00fcb8a",
   "metadata": {},
   "source": [
    "### 1. DataSourcing"
   ]
  },
  {
   "cell_type": "code",
   "execution_count": 2,
   "id": "85078312",
   "metadata": {},
   "outputs": [],
   "source": [
    "#Data is already provided, importing the data to DataFrame, Since it is big file with various DataTypes set low_memory=False\n",
    "loan_data=pd.read_csv(r'C:\\Users\\Sumanth Sarva\\Documents\\IIITB\\LendingClub\\loan\\loan.csv',low_memory=False)"
   ]
  },
  {
   "cell_type": "code",
   "execution_count": 3,
   "id": "0d785e80",
   "metadata": {},
   "outputs": [
    {
     "data": {
      "text/plain": [
       "(39717, 111)"
      ]
     },
     "execution_count": 3,
     "metadata": {},
     "output_type": "execute_result"
    }
   ],
   "source": [
    "#DataFrame shape\n",
    "loan_data.shape"
   ]
  },
  {
   "cell_type": "markdown",
   "id": "b8e16f6b",
   "metadata": {},
   "source": [
    "### 2. DataCleaning"
   ]
  },
  {
   "cell_type": "code",
   "execution_count": 4,
   "id": "ede91df5",
   "metadata": {
    "scrolled": true
   },
   "outputs": [
    {
     "data": {
      "text/plain": [
       "['id',\n",
       " 'member_id',\n",
       " 'loan_amnt',\n",
       " 'funded_amnt',\n",
       " 'funded_amnt_inv',\n",
       " 'term',\n",
       " 'int_rate',\n",
       " 'installment',\n",
       " 'grade',\n",
       " 'sub_grade',\n",
       " 'emp_title',\n",
       " 'emp_length',\n",
       " 'home_ownership',\n",
       " 'annual_inc',\n",
       " 'verification_status',\n",
       " 'issue_d',\n",
       " 'loan_status',\n",
       " 'pymnt_plan',\n",
       " 'url',\n",
       " 'desc',\n",
       " 'purpose',\n",
       " 'title',\n",
       " 'zip_code',\n",
       " 'addr_state',\n",
       " 'dti',\n",
       " 'delinq_2yrs',\n",
       " 'earliest_cr_line',\n",
       " 'inq_last_6mths',\n",
       " 'mths_since_last_delinq',\n",
       " 'mths_since_last_record',\n",
       " 'open_acc',\n",
       " 'pub_rec',\n",
       " 'revol_bal',\n",
       " 'revol_util',\n",
       " 'total_acc',\n",
       " 'initial_list_status',\n",
       " 'out_prncp',\n",
       " 'out_prncp_inv',\n",
       " 'total_pymnt',\n",
       " 'total_pymnt_inv',\n",
       " 'total_rec_prncp',\n",
       " 'total_rec_int',\n",
       " 'total_rec_late_fee',\n",
       " 'recoveries',\n",
       " 'collection_recovery_fee',\n",
       " 'last_pymnt_d',\n",
       " 'last_pymnt_amnt',\n",
       " 'next_pymnt_d',\n",
       " 'last_credit_pull_d',\n",
       " 'collections_12_mths_ex_med',\n",
       " 'mths_since_last_major_derog',\n",
       " 'policy_code',\n",
       " 'application_type',\n",
       " 'annual_inc_joint',\n",
       " 'dti_joint',\n",
       " 'verification_status_joint',\n",
       " 'acc_now_delinq',\n",
       " 'tot_coll_amt',\n",
       " 'tot_cur_bal',\n",
       " 'open_acc_6m',\n",
       " 'open_il_6m',\n",
       " 'open_il_12m',\n",
       " 'open_il_24m',\n",
       " 'mths_since_rcnt_il',\n",
       " 'total_bal_il',\n",
       " 'il_util',\n",
       " 'open_rv_12m',\n",
       " 'open_rv_24m',\n",
       " 'max_bal_bc',\n",
       " 'all_util',\n",
       " 'total_rev_hi_lim',\n",
       " 'inq_fi',\n",
       " 'total_cu_tl',\n",
       " 'inq_last_12m',\n",
       " 'acc_open_past_24mths',\n",
       " 'avg_cur_bal',\n",
       " 'bc_open_to_buy',\n",
       " 'bc_util',\n",
       " 'chargeoff_within_12_mths',\n",
       " 'delinq_amnt',\n",
       " 'mo_sin_old_il_acct',\n",
       " 'mo_sin_old_rev_tl_op',\n",
       " 'mo_sin_rcnt_rev_tl_op',\n",
       " 'mo_sin_rcnt_tl',\n",
       " 'mort_acc',\n",
       " 'mths_since_recent_bc',\n",
       " 'mths_since_recent_bc_dlq',\n",
       " 'mths_since_recent_inq',\n",
       " 'mths_since_recent_revol_delinq',\n",
       " 'num_accts_ever_120_pd',\n",
       " 'num_actv_bc_tl',\n",
       " 'num_actv_rev_tl',\n",
       " 'num_bc_sats',\n",
       " 'num_bc_tl',\n",
       " 'num_il_tl',\n",
       " 'num_op_rev_tl',\n",
       " 'num_rev_accts',\n",
       " 'num_rev_tl_bal_gt_0',\n",
       " 'num_sats',\n",
       " 'num_tl_120dpd_2m',\n",
       " 'num_tl_30dpd',\n",
       " 'num_tl_90g_dpd_24m',\n",
       " 'num_tl_op_past_12m',\n",
       " 'pct_tl_nvr_dlq',\n",
       " 'percent_bc_gt_75',\n",
       " 'pub_rec_bankruptcies',\n",
       " 'tax_liens',\n",
       " 'tot_hi_cred_lim',\n",
       " 'total_bal_ex_mort',\n",
       " 'total_bc_limit',\n",
       " 'total_il_high_credit_limit']"
      ]
     },
     "execution_count": 4,
     "metadata": {},
     "output_type": "execute_result"
    }
   ],
   "source": [
    "list(loan_data.columns.values) #listing the column names"
   ]
  },
  {
   "cell_type": "code",
   "execution_count": 5,
   "id": "4e940912",
   "metadata": {},
   "outputs": [
    {
     "data": {
      "text/plain": [
       "Index(['mths_since_last_major_derog', 'annual_inc_joint', 'dti_joint',\n",
       "       'verification_status_joint', 'tot_coll_amt', 'tot_cur_bal',\n",
       "       'open_acc_6m', 'open_il_6m', 'open_il_12m', 'open_il_24m',\n",
       "       'mths_since_rcnt_il', 'total_bal_il', 'il_util', 'open_rv_12m',\n",
       "       'open_rv_24m', 'max_bal_bc', 'all_util', 'total_rev_hi_lim', 'inq_fi',\n",
       "       'total_cu_tl', 'inq_last_12m', 'acc_open_past_24mths', 'avg_cur_bal',\n",
       "       'bc_open_to_buy', 'bc_util', 'mo_sin_old_il_acct',\n",
       "       'mo_sin_old_rev_tl_op', 'mo_sin_rcnt_rev_tl_op', 'mo_sin_rcnt_tl',\n",
       "       'mort_acc', 'mths_since_recent_bc', 'mths_since_recent_bc_dlq',\n",
       "       'mths_since_recent_inq', 'mths_since_recent_revol_delinq',\n",
       "       'num_accts_ever_120_pd', 'num_actv_bc_tl', 'num_actv_rev_tl',\n",
       "       'num_bc_sats', 'num_bc_tl', 'num_il_tl', 'num_op_rev_tl',\n",
       "       'num_rev_accts', 'num_rev_tl_bal_gt_0', 'num_sats', 'num_tl_120dpd_2m',\n",
       "       'num_tl_30dpd', 'num_tl_90g_dpd_24m', 'num_tl_op_past_12m',\n",
       "       'pct_tl_nvr_dlq', 'percent_bc_gt_75', 'tot_hi_cred_lim',\n",
       "       'total_bal_ex_mort', 'total_bc_limit', 'total_il_high_credit_limit'],\n",
       "      dtype='object')"
      ]
     },
     "execution_count": 5,
     "metadata": {},
     "output_type": "execute_result"
    }
   ],
   "source": [
    "# There are many columns let's see if there are empty columns\n",
    "loan_data.columns[loan_data.isnull().all()]"
   ]
  },
  {
   "cell_type": "markdown",
   "id": "0396ff4d",
   "metadata": {},
   "source": [
    "#### 2.1.1 Dropping empty columns"
   ]
  },
  {
   "cell_type": "code",
   "execution_count": 6,
   "id": "e78d7b41",
   "metadata": {},
   "outputs": [
    {
     "data": {
      "text/plain": [
       "(39717, 57)"
      ]
     },
     "execution_count": 6,
     "metadata": {},
     "output_type": "execute_result"
    }
   ],
   "source": [
    "#dropping all the empty columns\n",
    "loan_data.dropna(how='all',axis = 1 , inplace = True)\n",
    "\n",
    "#table shape after dropping\n",
    "loan_data.shape\n"
   ]
  },
  {
   "cell_type": "code",
   "execution_count": 7,
   "id": "82e7bea6",
   "metadata": {},
   "outputs": [
    {
     "data": {
      "text/plain": [
       "next_pymnt_d                  97.0\n",
       "mths_since_last_record        93.0\n",
       "mths_since_last_delinq        65.0\n",
       "desc                          33.0\n",
       "emp_title                     6.0 \n",
       "emp_length                    3.0 \n",
       "pub_rec_bankruptcies          2.0 \n",
       "last_pymnt_d                  0.0 \n",
       "chargeoff_within_12_mths      0.0 \n",
       "collections_12_mths_ex_med    0.0 \n",
       "dtype: float64"
      ]
     },
     "execution_count": 7,
     "metadata": {},
     "output_type": "execute_result"
    }
   ],
   "source": [
    "#lets the see percentage of missing values in the remaining columns, sorted and listed by top 10\n",
    "round( (loan_data.isnull().sum()/len(loan_data) * 100).sort_values(ascending=False),0).head(10)\n"
   ]
  },
  {
   "cell_type": "markdown",
   "id": "970af0ad",
   "metadata": {},
   "source": [
    "#### 2.1.2 Dropping columns with more percentage of missing values"
   ]
  },
  {
   "cell_type": "code",
   "execution_count": 8,
   "id": "27ea5ae1",
   "metadata": {},
   "outputs": [],
   "source": [
    "#lets drop the top 3 columns as they are not using considering the number of missing values.\n",
    "loan_data.drop([\"next_pymnt_d\", \"mths_since_last_record\", \"mths_since_last_delinq\"],axis=1,inplace=True)"
   ]
  },
  {
   "cell_type": "code",
   "execution_count": 9,
   "id": "3212a5a3",
   "metadata": {},
   "outputs": [
    {
     "data": {
      "text/plain": [
       "Index(['id', 'member_id', 'loan_amnt', 'funded_amnt', 'funded_amnt_inv',\n",
       "       'term', 'int_rate', 'installment', 'grade', 'sub_grade', 'emp_title',\n",
       "       'emp_length', 'home_ownership', 'annual_inc', 'verification_status',\n",
       "       'issue_d', 'loan_status', 'pymnt_plan', 'url', 'desc', 'purpose',\n",
       "       'title', 'zip_code', 'addr_state', 'dti', 'delinq_2yrs',\n",
       "       'earliest_cr_line', 'inq_last_6mths', 'open_acc', 'pub_rec',\n",
       "       'revol_bal', 'revol_util', 'total_acc', 'initial_list_status',\n",
       "       'out_prncp', 'out_prncp_inv', 'total_pymnt', 'total_pymnt_inv',\n",
       "       'total_rec_prncp', 'total_rec_int', 'total_rec_late_fee', 'recoveries',\n",
       "       'collection_recovery_fee', 'last_pymnt_d', 'last_pymnt_amnt',\n",
       "       'last_credit_pull_d', 'collections_12_mths_ex_med', 'policy_code',\n",
       "       'application_type', 'acc_now_delinq', 'chargeoff_within_12_mths',\n",
       "       'delinq_amnt', 'pub_rec_bankruptcies', 'tax_liens'],\n",
       "      dtype='object')"
      ]
     },
     "execution_count": 9,
     "metadata": {},
     "output_type": "execute_result"
    }
   ],
   "source": [
    "#Listing the remaining column names of the loan_data\n",
    "loan_data.columns"
   ]
  },
  {
   "cell_type": "markdown",
   "id": "443ae839",
   "metadata": {},
   "source": [
    "#### 2.1.3 Dropping columns which have only `One Value` "
   ]
  },
  {
   "cell_type": "code",
   "execution_count": 10,
   "id": "0a8c27f0",
   "metadata": {
    "scrolled": true
   },
   "outputs": [
    {
     "name": "stdout",
     "output_type": "stream",
     "text": [
      "id                            39717\n",
      "member_id                     39717\n",
      "loan_amnt                     885  \n",
      "funded_amnt                   1041 \n",
      "funded_amnt_inv               8205 \n",
      "term                          2    \n",
      "int_rate                      371  \n",
      "installment                   15383\n",
      "grade                         7    \n",
      "sub_grade                     35   \n",
      "emp_title                     28820\n",
      "emp_length                    11   \n",
      "home_ownership                5    \n",
      "annual_inc                    5318 \n",
      "verification_status           3    \n",
      "issue_d                       55   \n",
      "loan_status                   3    \n",
      "pymnt_plan                    1    \n",
      "url                           39717\n",
      "desc                          26527\n",
      "purpose                       14   \n",
      "title                         19615\n",
      "zip_code                      823  \n",
      "addr_state                    50   \n",
      "dti                           2868 \n",
      "delinq_2yrs                   11   \n",
      "earliest_cr_line              526  \n",
      "inq_last_6mths                9    \n",
      "open_acc                      40   \n",
      "pub_rec                       5    \n",
      "revol_bal                     21711\n",
      "revol_util                    1089 \n",
      "total_acc                     82   \n",
      "initial_list_status           1    \n",
      "out_prncp                     1137 \n",
      "out_prncp_inv                 1138 \n",
      "total_pymnt                   37850\n",
      "total_pymnt_inv               37518\n",
      "total_rec_prncp               7976 \n",
      "total_rec_int                 35148\n",
      "total_rec_late_fee            1356 \n",
      "recoveries                    4040 \n",
      "collection_recovery_fee       2616 \n",
      "last_pymnt_d                  101  \n",
      "last_pymnt_amnt               34930\n",
      "last_credit_pull_d            106  \n",
      "collections_12_mths_ex_med    1    \n",
      "policy_code                   1    \n",
      "application_type              1    \n",
      "acc_now_delinq                1    \n",
      "chargeoff_within_12_mths      1    \n",
      "delinq_amnt                   1    \n",
      "pub_rec_bankruptcies          3    \n",
      "tax_liens                     1    \n",
      "dtype: int64\n",
      "(39717, 54)\n"
     ]
    }
   ],
   "source": [
    "print(loan_data.nunique())\n",
    "print(loan_data.shape)"
   ]
  },
  {
   "cell_type": "code",
   "execution_count": 11,
   "id": "1c207759",
   "metadata": {},
   "outputs": [],
   "source": [
    "#dropping columns with only one unique value\n",
    "\n",
    "to_drop  = loan_data.nunique()                            #stroring all columns unique count to to_drop \n",
    "to_drop  = to_drop.loc[to_drop.values==1].index           #getting column indices where unique count is 1\n",
    "loan_data.drop(to_drop, inplace=True, axis=1)             #dropping columns in the list to_drop\n"
   ]
  },
  {
   "cell_type": "code",
   "execution_count": 12,
   "id": "d8c23a46",
   "metadata": {},
   "outputs": [
    {
     "data": {
      "text/plain": [
       "(39717, 45)"
      ]
     },
     "execution_count": 12,
     "metadata": {},
     "output_type": "execute_result"
    }
   ],
   "source": [
    "loan_data.shape"
   ]
  },
  {
   "cell_type": "markdown",
   "id": "82d7fb39",
   "metadata": {},
   "source": [
    "#### 2.1.4 Dropping columns that are `text/descriptions`"
   ]
  },
  {
   "cell_type": "markdown",
   "id": "a9e15221",
   "metadata": {},
   "source": [
    "##### Lets observe `url` and `id` columns"
   ]
  },
  {
   "cell_type": "code",
   "execution_count": 13,
   "id": "7f18d0d1",
   "metadata": {},
   "outputs": [
    {
     "data": {
      "text/html": [
       "<div>\n",
       "<style scoped>\n",
       "    .dataframe tbody tr th:only-of-type {\n",
       "        vertical-align: middle;\n",
       "    }\n",
       "\n",
       "    .dataframe tbody tr th {\n",
       "        vertical-align: top;\n",
       "    }\n",
       "\n",
       "    .dataframe thead th {\n",
       "        text-align: right;\n",
       "    }\n",
       "</style>\n",
       "<table border=\"1\" class=\"dataframe\">\n",
       "  <thead>\n",
       "    <tr style=\"text-align: right;\">\n",
       "      <th></th>\n",
       "      <th>id</th>\n",
       "      <th>url</th>\n",
       "    </tr>\n",
       "  </thead>\n",
       "  <tbody>\n",
       "    <tr>\n",
       "      <th>1</th>\n",
       "      <td>1077430</td>\n",
       "      <td>https://lendingclub.com/browse/loanDetail.action?loan_id=1077430</td>\n",
       "    </tr>\n",
       "    <tr>\n",
       "      <th>2</th>\n",
       "      <td>1077175</td>\n",
       "      <td>https://lendingclub.com/browse/loanDetail.action?loan_id=1077175</td>\n",
       "    </tr>\n",
       "    <tr>\n",
       "      <th>3</th>\n",
       "      <td>1076863</td>\n",
       "      <td>https://lendingclub.com/browse/loanDetail.action?loan_id=1076863</td>\n",
       "    </tr>\n",
       "    <tr>\n",
       "      <th>4</th>\n",
       "      <td>1075358</td>\n",
       "      <td>https://lendingclub.com/browse/loanDetail.action?loan_id=1075358</td>\n",
       "    </tr>\n",
       "    <tr>\n",
       "      <th>5</th>\n",
       "      <td>1075269</td>\n",
       "      <td>https://lendingclub.com/browse/loanDetail.action?loan_id=1075269</td>\n",
       "    </tr>\n",
       "  </tbody>\n",
       "</table>\n",
       "</div>"
      ],
      "text/plain": [
       "        id                                                               url\n",
       "1  1077430  https://lendingclub.com/browse/loanDetail.action?loan_id=1077430\n",
       "2  1077175  https://lendingclub.com/browse/loanDetail.action?loan_id=1077175\n",
       "3  1076863  https://lendingclub.com/browse/loanDetail.action?loan_id=1076863\n",
       "4  1075358  https://lendingclub.com/browse/loanDetail.action?loan_id=1075358\n",
       "5  1075269  https://lendingclub.com/browse/loanDetail.action?loan_id=1075269"
      ]
     },
     "execution_count": 13,
     "metadata": {},
     "output_type": "execute_result"
    }
   ],
   "source": [
    "loan_data.loc[[1,2,3,4,5],['id','url']]"
   ]
  },
  {
   "cell_type": "markdown",
   "id": "a1ca8701",
   "metadata": {},
   "source": [
    "Here we can conclude that either `url` and `id` columns are unique. (url column is just concatenation of string and id)\n",
    "They dont contribute for our analysis.\n",
    "We have indexing to identify the rows.\n",
    "\n",
    "\n",
    "so let's drop url and id column."
   ]
  },
  {
   "cell_type": "code",
   "execution_count": 14,
   "id": "616c2daa",
   "metadata": {},
   "outputs": [],
   "source": [
    "loan_data.drop(['url','id'], inplace =True, axis=1)    #dropping url and id column "
   ]
  },
  {
   "cell_type": "markdown",
   "id": "2c3498a5",
   "metadata": {},
   "source": [
    "#### 2.1.5  We can drop other columns that are not useful for our analysis \n",
    "   `member_id` we already have index column which is unique, we dont need it\n",
    "\n",
    "   `desc`, `emp_title` Irrelevant for our analysis\n",
    "\n",
    "\n",
    "   Let's go on and drop other `Costumer_Behavioural` columns that dont contribute to analysis\n"
   ]
  },
  {
   "cell_type": "code",
   "execution_count": 15,
   "id": "e482c84d",
   "metadata": {},
   "outputs": [
    {
     "data": {
      "text/plain": [
       "Index(['member_id', 'loan_amnt', 'funded_amnt', 'funded_amnt_inv', 'term',\n",
       "       'int_rate', 'installment', 'grade', 'sub_grade', 'emp_title',\n",
       "       'emp_length', 'home_ownership', 'annual_inc', 'verification_status',\n",
       "       'issue_d', 'loan_status', 'desc', 'purpose', 'title', 'zip_code',\n",
       "       'addr_state', 'dti', 'delinq_2yrs', 'earliest_cr_line',\n",
       "       'inq_last_6mths', 'open_acc', 'pub_rec', 'revol_bal', 'revol_util',\n",
       "       'total_acc', 'out_prncp', 'out_prncp_inv', 'total_pymnt',\n",
       "       'total_pymnt_inv', 'total_rec_prncp', 'total_rec_int',\n",
       "       'total_rec_late_fee', 'recoveries', 'collection_recovery_fee',\n",
       "       'last_pymnt_d', 'last_pymnt_amnt', 'last_credit_pull_d',\n",
       "       'pub_rec_bankruptcies'],\n",
       "      dtype='object')"
      ]
     },
     "execution_count": 15,
     "metadata": {},
     "output_type": "execute_result"
    }
   ],
   "source": [
    "loan_data.columns"
   ]
  },
  {
   "cell_type": "code",
   "execution_count": 16,
   "id": "6bf43dae",
   "metadata": {},
   "outputs": [],
   "source": [
    "#Columns that dont contribute our analysis\n",
    "\n",
    "#revol_bal --> is not necessary as it is total revolving credit, we calculate from revol util.\n",
    "#out_prncp --> Remaining outstanding principal for total amount funded. Not required.\n",
    "#out_prncp_inv -->Remaining outstanding principal for portion of total amount funded by investors. Not required.\n",
    "#total_pymnt,total_pymnt_inv,total_rec_prncp --> we dont need recovery amount that is paid to bank\n",
    "#total_rec_int,total_rec_late_fee  --> we dont need fine amount that is paid to bank.\n",
    "#recoveries --> it is gross recovery, not required.\n",
    "#collection_recovery_fee --> it is post charge off collection fee, not required.\n",
    "#earliest_cr_line --> We dont need oldest credit line for insights\n",
    "#delinq_2yrs --> values  are inconsistent.\n",
    "#open_acc, total_acc --> Not necessary to check open credit lines.\n",
    "#last_pymnt_d, last_pymnt_amn, --> it belongs to current loans so not required.\n",
    "#pub_rec -->Number of derogatory records are useful but values are inconsistent.\n",
    "#last_credit_pull_d --> Doesnt affect our target variable.\n",
    "#inq_last_6mths --> inquiry info is not relevant.\n",
    "#member_id, desc, funded_amnt,emp_title,title --> reasons mentioned above\n",
    "#zip_code --> state column is retained, zip-code is too specific and not logical in business perspective.\n"
   ]
  },
  {
   "cell_type": "code",
   "execution_count": 17,
   "id": "5506c360",
   "metadata": {},
   "outputs": [],
   "source": [
    "#dropping all unnecessary columns\n",
    "loan_data.drop(['revol_bal','out_prncp','out_prncp_inv','total_pymnt','total_pymnt_inv','total_rec_prncp',\n",
    "       'total_rec_int', 'total_rec_late_fee', 'recoveries','installment',\n",
    "       'collection_recovery_fee','earliest_cr_line','delinq_2yrs','total_acc','open_acc', 'last_pymnt_d', \n",
    "        'last_pymnt_amnt','pub_rec', 'last_credit_pull_d','inq_last_6mths',\n",
    "        'member_id','desc','funded_amnt','zip_code',\n",
    "      'emp_title','title'],inplace=True, axis=1)"
   ]
  },
  {
   "cell_type": "code",
   "execution_count": 18,
   "id": "51cc9a7d",
   "metadata": {
    "scrolled": true
   },
   "outputs": [
    {
     "data": {
      "text/plain": [
       "(39717, 17)"
      ]
     },
     "execution_count": 18,
     "metadata": {},
     "output_type": "execute_result"
    }
   ],
   "source": [
    "loan_data.shape"
   ]
  },
  {
   "cell_type": "markdown",
   "id": "ad263dda",
   "metadata": {},
   "source": [
    "#### Columns left in our Loan Table"
   ]
  },
  {
   "cell_type": "code",
   "execution_count": 19,
   "id": "982976c8",
   "metadata": {},
   "outputs": [
    {
     "data": {
      "text/plain": [
       "Index(['loan_amnt', 'funded_amnt_inv', 'term', 'int_rate', 'grade',\n",
       "       'sub_grade', 'emp_length', 'home_ownership', 'annual_inc',\n",
       "       'verification_status', 'issue_d', 'loan_status', 'purpose',\n",
       "       'addr_state', 'dti', 'revol_util', 'pub_rec_bankruptcies'],\n",
       "      dtype='object')"
      ]
     },
     "execution_count": 19,
     "metadata": {},
     "output_type": "execute_result"
    }
   ],
   "source": [
    "loan_data.columns"
   ]
  },
  {
   "cell_type": "markdown",
   "id": "8d8d2472",
   "metadata": {},
   "source": [
    "#### 2.1.6 Fixing rows"
   ]
  },
  {
   "cell_type": "code",
   "execution_count": 20,
   "id": "fb469028",
   "metadata": {},
   "outputs": [
    {
     "data": {
      "text/plain": [
       "0"
      ]
     },
     "execution_count": 20,
     "metadata": {},
     "output_type": "execute_result"
    }
   ],
   "source": [
    "#Lets check and delete if there are no null rows\n",
    "loan_data.isnull().all(axis=1).sum()"
   ]
  },
  {
   "cell_type": "code",
   "execution_count": 21,
   "id": "a9ae2464",
   "metadata": {},
   "outputs": [
    {
     "name": "stdout",
     "output_type": "stream",
     "text": [
      "['Fully Paid' 'Charged Off' 'Current']\n"
     ]
    },
    {
     "data": {
      "text/plain": [
       "Fully Paid     32950\n",
       "Charged Off    5627 \n",
       "Current        1140 \n",
       "Name: loan_status, dtype: int64"
      ]
     },
     "execution_count": 21,
     "metadata": {},
     "output_type": "execute_result"
    }
   ],
   "source": [
    "# Here there are 3 types of values for loan_status\n",
    "print(loan_data.loan_status.unique())\n",
    "loan_data.loan_status.value_counts()"
   ]
  },
  {
   "cell_type": "markdown",
   "id": "c4260355",
   "metadata": {},
   "source": [
    "#### We can't get any insights from the applicants who's loan status is 'current'\n",
    "so let's drop the rows where the loan status is `current`"
   ]
  },
  {
   "cell_type": "code",
   "execution_count": 22,
   "id": "723f920e",
   "metadata": {},
   "outputs": [],
   "source": [
    "#dropping the rows where loan_status is current \n",
    "loan_data.drop(loan_data[loan_data.loan_status =='Current'].index, inplace=True)\n"
   ]
  },
  {
   "cell_type": "code",
   "execution_count": 23,
   "id": "c20abb19",
   "metadata": {},
   "outputs": [
    {
     "name": "stdout",
     "output_type": "stream",
     "text": [
      "(38577, 17)\n"
     ]
    }
   ],
   "source": [
    "print(loan_data.shape) #shape after removing LoanStatus current rows"
   ]
  },
  {
   "cell_type": "markdown",
   "id": "d5c4ed27",
   "metadata": {},
   "source": [
    "#### 2.2 Standardising data"
   ]
  },
  {
   "cell_type": "code",
   "execution_count": 24,
   "id": "2e01972a",
   "metadata": {
    "scrolled": false
   },
   "outputs": [
    {
     "data": {
      "text/plain": [
       "loan_amnt               int64  \n",
       "funded_amnt_inv         float64\n",
       "term                    object \n",
       "int_rate                object \n",
       "grade                   object \n",
       "sub_grade               object \n",
       "emp_length              object \n",
       "home_ownership          object \n",
       "annual_inc              float64\n",
       "verification_status     object \n",
       "issue_d                 object \n",
       "loan_status             object \n",
       "purpose                 object \n",
       "addr_state              object \n",
       "dti                     float64\n",
       "revol_util              object \n",
       "pub_rec_bankruptcies    float64\n",
       "dtype: object"
      ]
     },
     "execution_count": 24,
     "metadata": {},
     "output_type": "execute_result"
    }
   ],
   "source": [
    "#data types of the values\n",
    "loan_data.dtypes\n",
    "#lets convert them to proper data type after we remove special characters from all the columns,if any!"
   ]
  },
  {
   "cell_type": "code",
   "execution_count": 25,
   "id": "10d8ec85",
   "metadata": {},
   "outputs": [
    {
     "data": {
      "text/html": [
       "<div>\n",
       "<style scoped>\n",
       "    .dataframe tbody tr th:only-of-type {\n",
       "        vertical-align: middle;\n",
       "    }\n",
       "\n",
       "    .dataframe tbody tr th {\n",
       "        vertical-align: top;\n",
       "    }\n",
       "\n",
       "    .dataframe thead th {\n",
       "        text-align: right;\n",
       "    }\n",
       "</style>\n",
       "<table border=\"1\" class=\"dataframe\">\n",
       "  <thead>\n",
       "    <tr style=\"text-align: right;\">\n",
       "      <th></th>\n",
       "      <th>loan_amnt</th>\n",
       "      <th>funded_amnt_inv</th>\n",
       "      <th>term</th>\n",
       "      <th>int_rate</th>\n",
       "      <th>grade</th>\n",
       "      <th>sub_grade</th>\n",
       "      <th>emp_length</th>\n",
       "      <th>home_ownership</th>\n",
       "      <th>annual_inc</th>\n",
       "      <th>verification_status</th>\n",
       "      <th>issue_d</th>\n",
       "      <th>loan_status</th>\n",
       "      <th>purpose</th>\n",
       "      <th>addr_state</th>\n",
       "      <th>dti</th>\n",
       "      <th>revol_util</th>\n",
       "      <th>pub_rec_bankruptcies</th>\n",
       "    </tr>\n",
       "  </thead>\n",
       "  <tbody>\n",
       "    <tr>\n",
       "      <th>0</th>\n",
       "      <td>5000</td>\n",
       "      <td>4975.0</td>\n",
       "      <td>36 months</td>\n",
       "      <td>10.65%</td>\n",
       "      <td>B</td>\n",
       "      <td>B2</td>\n",
       "      <td>10+ years</td>\n",
       "      <td>RENT</td>\n",
       "      <td>24000.0</td>\n",
       "      <td>Verified</td>\n",
       "      <td>Dec-11</td>\n",
       "      <td>Fully Paid</td>\n",
       "      <td>credit_card</td>\n",
       "      <td>AZ</td>\n",
       "      <td>27.65</td>\n",
       "      <td>83.70%</td>\n",
       "      <td>0.0</td>\n",
       "    </tr>\n",
       "    <tr>\n",
       "      <th>1</th>\n",
       "      <td>2500</td>\n",
       "      <td>2500.0</td>\n",
       "      <td>60 months</td>\n",
       "      <td>15.27%</td>\n",
       "      <td>C</td>\n",
       "      <td>C4</td>\n",
       "      <td>&lt; 1 year</td>\n",
       "      <td>RENT</td>\n",
       "      <td>30000.0</td>\n",
       "      <td>Source Verified</td>\n",
       "      <td>Dec-11</td>\n",
       "      <td>Charged Off</td>\n",
       "      <td>car</td>\n",
       "      <td>GA</td>\n",
       "      <td>1.00</td>\n",
       "      <td>9.40%</td>\n",
       "      <td>0.0</td>\n",
       "    </tr>\n",
       "    <tr>\n",
       "      <th>2</th>\n",
       "      <td>2400</td>\n",
       "      <td>2400.0</td>\n",
       "      <td>36 months</td>\n",
       "      <td>15.96%</td>\n",
       "      <td>C</td>\n",
       "      <td>C5</td>\n",
       "      <td>10+ years</td>\n",
       "      <td>RENT</td>\n",
       "      <td>12252.0</td>\n",
       "      <td>Not Verified</td>\n",
       "      <td>Dec-11</td>\n",
       "      <td>Fully Paid</td>\n",
       "      <td>small_business</td>\n",
       "      <td>IL</td>\n",
       "      <td>8.72</td>\n",
       "      <td>98.50%</td>\n",
       "      <td>0.0</td>\n",
       "    </tr>\n",
       "    <tr>\n",
       "      <th>3</th>\n",
       "      <td>10000</td>\n",
       "      <td>10000.0</td>\n",
       "      <td>36 months</td>\n",
       "      <td>13.49%</td>\n",
       "      <td>C</td>\n",
       "      <td>C1</td>\n",
       "      <td>10+ years</td>\n",
       "      <td>RENT</td>\n",
       "      <td>49200.0</td>\n",
       "      <td>Source Verified</td>\n",
       "      <td>Dec-11</td>\n",
       "      <td>Fully Paid</td>\n",
       "      <td>other</td>\n",
       "      <td>CA</td>\n",
       "      <td>20.00</td>\n",
       "      <td>21%</td>\n",
       "      <td>0.0</td>\n",
       "    </tr>\n",
       "    <tr>\n",
       "      <th>5</th>\n",
       "      <td>5000</td>\n",
       "      <td>5000.0</td>\n",
       "      <td>36 months</td>\n",
       "      <td>7.90%</td>\n",
       "      <td>A</td>\n",
       "      <td>A4</td>\n",
       "      <td>3 years</td>\n",
       "      <td>RENT</td>\n",
       "      <td>36000.0</td>\n",
       "      <td>Source Verified</td>\n",
       "      <td>Dec-11</td>\n",
       "      <td>Fully Paid</td>\n",
       "      <td>wedding</td>\n",
       "      <td>AZ</td>\n",
       "      <td>11.20</td>\n",
       "      <td>28.30%</td>\n",
       "      <td>0.0</td>\n",
       "    </tr>\n",
       "  </tbody>\n",
       "</table>\n",
       "</div>"
      ],
      "text/plain": [
       "   loan_amnt  funded_amnt_inv        term int_rate grade sub_grade emp_length  \\\n",
       "0  5000       4975.0            36 months  10.65%   B     B2        10+ years   \n",
       "1  2500       2500.0            60 months  15.27%   C     C4        < 1 year    \n",
       "2  2400       2400.0            36 months  15.96%   C     C5        10+ years   \n",
       "3  10000      10000.0           36 months  13.49%   C     C1        10+ years   \n",
       "5  5000       5000.0            36 months  7.90%    A     A4        3 years     \n",
       "\n",
       "  home_ownership  annual_inc verification_status issue_d  loan_status  \\\n",
       "0  RENT           24000.0     Verified            Dec-11  Fully Paid    \n",
       "1  RENT           30000.0     Source Verified     Dec-11  Charged Off   \n",
       "2  RENT           12252.0     Not Verified        Dec-11  Fully Paid    \n",
       "3  RENT           49200.0     Source Verified     Dec-11  Fully Paid    \n",
       "5  RENT           36000.0     Source Verified     Dec-11  Fully Paid    \n",
       "\n",
       "          purpose addr_state    dti revol_util  pub_rec_bankruptcies  \n",
       "0  credit_card     AZ         27.65  83.70%     0.0                   \n",
       "1  car             GA         1.00   9.40%      0.0                   \n",
       "2  small_business  IL         8.72   98.50%     0.0                   \n",
       "3  other           CA         20.00  21%        0.0                   \n",
       "5  wedding         AZ         11.20  28.30%     0.0                   "
      ]
     },
     "execution_count": 25,
     "metadata": {},
     "output_type": "execute_result"
    }
   ],
   "source": [
    "loan_data.head()"
   ]
  },
  {
   "cell_type": "markdown",
   "id": "d1229cf0",
   "metadata": {},
   "source": [
    "#### Lets remove `%` symbol from the `int_rate` and `revol_util` column names"
   ]
  },
  {
   "cell_type": "code",
   "execution_count": 26,
   "id": "5aa55ed3",
   "metadata": {},
   "outputs": [
    {
     "data": {
      "text/html": [
       "<div>\n",
       "<style scoped>\n",
       "    .dataframe tbody tr th:only-of-type {\n",
       "        vertical-align: middle;\n",
       "    }\n",
       "\n",
       "    .dataframe tbody tr th {\n",
       "        vertical-align: top;\n",
       "    }\n",
       "\n",
       "    .dataframe thead th {\n",
       "        text-align: right;\n",
       "    }\n",
       "</style>\n",
       "<table border=\"1\" class=\"dataframe\">\n",
       "  <thead>\n",
       "    <tr style=\"text-align: right;\">\n",
       "      <th></th>\n",
       "      <th>int_rate</th>\n",
       "      <th>revol_util</th>\n",
       "    </tr>\n",
       "  </thead>\n",
       "  <tbody>\n",
       "    <tr>\n",
       "      <th>0</th>\n",
       "      <td>10.65%</td>\n",
       "      <td>83.70%</td>\n",
       "    </tr>\n",
       "    <tr>\n",
       "      <th>1</th>\n",
       "      <td>15.27%</td>\n",
       "      <td>9.40%</td>\n",
       "    </tr>\n",
       "    <tr>\n",
       "      <th>2</th>\n",
       "      <td>15.96%</td>\n",
       "      <td>98.50%</td>\n",
       "    </tr>\n",
       "  </tbody>\n",
       "</table>\n",
       "</div>"
      ],
      "text/plain": [
       "  int_rate revol_util\n",
       "0  10.65%   83.70%   \n",
       "1  15.27%   9.40%    \n",
       "2  15.96%   98.50%   "
      ]
     },
     "execution_count": 26,
     "metadata": {},
     "output_type": "execute_result"
    }
   ],
   "source": [
    "#printing first 3 rows and int_rate and revol_util columns to see the format.\n",
    "loan_data.loc[[0,1,2],['int_rate', 'revol_util']].head()"
   ]
  },
  {
   "cell_type": "code",
   "execution_count": 27,
   "id": "e2b5c3a1",
   "metadata": {},
   "outputs": [],
   "source": [
    "#removing % symbol from 'int_rate'\n",
    "loan_data[\"int_rate\"]=loan_data[\"int_rate\"].apply(lambda x: float(x.replace('%','')))\n",
    "\n",
    "#removing % symbol from 'revol_util'\n",
    "loan_data[\"revol_util\"]=loan_data[\"revol_util\"].str.replace('%','').astype(float)\n",
    "\n"
   ]
  },
  {
   "cell_type": "code",
   "execution_count": 28,
   "id": "09106fc9",
   "metadata": {},
   "outputs": [
    {
     "data": {
      "text/html": [
       "<div>\n",
       "<style scoped>\n",
       "    .dataframe tbody tr th:only-of-type {\n",
       "        vertical-align: middle;\n",
       "    }\n",
       "\n",
       "    .dataframe tbody tr th {\n",
       "        vertical-align: top;\n",
       "    }\n",
       "\n",
       "    .dataframe thead th {\n",
       "        text-align: right;\n",
       "    }\n",
       "</style>\n",
       "<table border=\"1\" class=\"dataframe\">\n",
       "  <thead>\n",
       "    <tr style=\"text-align: right;\">\n",
       "      <th></th>\n",
       "      <th>int_rate</th>\n",
       "      <th>revol_util</th>\n",
       "    </tr>\n",
       "  </thead>\n",
       "  <tbody>\n",
       "    <tr>\n",
       "      <th>0</th>\n",
       "      <td>10.65</td>\n",
       "      <td>83.7</td>\n",
       "    </tr>\n",
       "    <tr>\n",
       "      <th>1</th>\n",
       "      <td>15.27</td>\n",
       "      <td>9.4</td>\n",
       "    </tr>\n",
       "    <tr>\n",
       "      <th>2</th>\n",
       "      <td>15.96</td>\n",
       "      <td>98.5</td>\n",
       "    </tr>\n",
       "  </tbody>\n",
       "</table>\n",
       "</div>"
      ],
      "text/plain": [
       "   int_rate  revol_util\n",
       "0  10.65     83.7      \n",
       "1  15.27     9.4       \n",
       "2  15.96     98.5      "
      ]
     },
     "execution_count": 28,
     "metadata": {},
     "output_type": "execute_result"
    }
   ],
   "source": [
    "#printing first 3 rows and int_rate and revol_util columns to see if '%' is removed.\n",
    "loan_data.loc[[0,1,2],['int_rate', 'revol_util']].head()"
   ]
  },
  {
   "cell_type": "markdown",
   "id": "ffb73924",
   "metadata": {},
   "source": [
    "#### Lets rename term into `term_in_months` and remove 'Months' in term column."
   ]
  },
  {
   "cell_type": "code",
   "execution_count": 29,
   "id": "75c8497f",
   "metadata": {},
   "outputs": [],
   "source": [
    "#Rename 'term'  into 'term_in_months'\n",
    "loan_data.rename(columns = {'term':'term_in_months'}, inplace = True)\n",
    "\n",
    "#remove 'months' from 'term_in_months' column\n",
    "loan_data[\"term_in_months\"]=loan_data[\"term_in_months\"].apply(lambda x: x.replace('months',''))"
   ]
  },
  {
   "cell_type": "code",
   "execution_count": 30,
   "id": "390c72be",
   "metadata": {},
   "outputs": [
    {
     "data": {
      "text/html": [
       "<div>\n",
       "<style scoped>\n",
       "    .dataframe tbody tr th:only-of-type {\n",
       "        vertical-align: middle;\n",
       "    }\n",
       "\n",
       "    .dataframe tbody tr th {\n",
       "        vertical-align: top;\n",
       "    }\n",
       "\n",
       "    .dataframe thead th {\n",
       "        text-align: right;\n",
       "    }\n",
       "</style>\n",
       "<table border=\"1\" class=\"dataframe\">\n",
       "  <thead>\n",
       "    <tr style=\"text-align: right;\">\n",
       "      <th></th>\n",
       "      <th>loan_amnt</th>\n",
       "      <th>funded_amnt_inv</th>\n",
       "      <th>term_in_months</th>\n",
       "      <th>int_rate</th>\n",
       "      <th>grade</th>\n",
       "      <th>sub_grade</th>\n",
       "      <th>emp_length</th>\n",
       "      <th>home_ownership</th>\n",
       "      <th>annual_inc</th>\n",
       "      <th>verification_status</th>\n",
       "      <th>issue_d</th>\n",
       "      <th>loan_status</th>\n",
       "      <th>purpose</th>\n",
       "      <th>addr_state</th>\n",
       "      <th>dti</th>\n",
       "      <th>revol_util</th>\n",
       "      <th>pub_rec_bankruptcies</th>\n",
       "    </tr>\n",
       "  </thead>\n",
       "  <tbody>\n",
       "    <tr>\n",
       "      <th>0</th>\n",
       "      <td>5000</td>\n",
       "      <td>4975.0</td>\n",
       "      <td>36</td>\n",
       "      <td>10.65</td>\n",
       "      <td>B</td>\n",
       "      <td>B2</td>\n",
       "      <td>10+ years</td>\n",
       "      <td>RENT</td>\n",
       "      <td>24000.0</td>\n",
       "      <td>Verified</td>\n",
       "      <td>Dec-11</td>\n",
       "      <td>Fully Paid</td>\n",
       "      <td>credit_card</td>\n",
       "      <td>AZ</td>\n",
       "      <td>27.65</td>\n",
       "      <td>83.7</td>\n",
       "      <td>0.0</td>\n",
       "    </tr>\n",
       "    <tr>\n",
       "      <th>1</th>\n",
       "      <td>2500</td>\n",
       "      <td>2500.0</td>\n",
       "      <td>60</td>\n",
       "      <td>15.27</td>\n",
       "      <td>C</td>\n",
       "      <td>C4</td>\n",
       "      <td>&lt; 1 year</td>\n",
       "      <td>RENT</td>\n",
       "      <td>30000.0</td>\n",
       "      <td>Source Verified</td>\n",
       "      <td>Dec-11</td>\n",
       "      <td>Charged Off</td>\n",
       "      <td>car</td>\n",
       "      <td>GA</td>\n",
       "      <td>1.00</td>\n",
       "      <td>9.4</td>\n",
       "      <td>0.0</td>\n",
       "    </tr>\n",
       "    <tr>\n",
       "      <th>2</th>\n",
       "      <td>2400</td>\n",
       "      <td>2400.0</td>\n",
       "      <td>36</td>\n",
       "      <td>15.96</td>\n",
       "      <td>C</td>\n",
       "      <td>C5</td>\n",
       "      <td>10+ years</td>\n",
       "      <td>RENT</td>\n",
       "      <td>12252.0</td>\n",
       "      <td>Not Verified</td>\n",
       "      <td>Dec-11</td>\n",
       "      <td>Fully Paid</td>\n",
       "      <td>small_business</td>\n",
       "      <td>IL</td>\n",
       "      <td>8.72</td>\n",
       "      <td>98.5</td>\n",
       "      <td>0.0</td>\n",
       "    </tr>\n",
       "    <tr>\n",
       "      <th>3</th>\n",
       "      <td>10000</td>\n",
       "      <td>10000.0</td>\n",
       "      <td>36</td>\n",
       "      <td>13.49</td>\n",
       "      <td>C</td>\n",
       "      <td>C1</td>\n",
       "      <td>10+ years</td>\n",
       "      <td>RENT</td>\n",
       "      <td>49200.0</td>\n",
       "      <td>Source Verified</td>\n",
       "      <td>Dec-11</td>\n",
       "      <td>Fully Paid</td>\n",
       "      <td>other</td>\n",
       "      <td>CA</td>\n",
       "      <td>20.00</td>\n",
       "      <td>21.0</td>\n",
       "      <td>0.0</td>\n",
       "    </tr>\n",
       "    <tr>\n",
       "      <th>5</th>\n",
       "      <td>5000</td>\n",
       "      <td>5000.0</td>\n",
       "      <td>36</td>\n",
       "      <td>7.90</td>\n",
       "      <td>A</td>\n",
       "      <td>A4</td>\n",
       "      <td>3 years</td>\n",
       "      <td>RENT</td>\n",
       "      <td>36000.0</td>\n",
       "      <td>Source Verified</td>\n",
       "      <td>Dec-11</td>\n",
       "      <td>Fully Paid</td>\n",
       "      <td>wedding</td>\n",
       "      <td>AZ</td>\n",
       "      <td>11.20</td>\n",
       "      <td>28.3</td>\n",
       "      <td>0.0</td>\n",
       "    </tr>\n",
       "  </tbody>\n",
       "</table>\n",
       "</div>"
      ],
      "text/plain": [
       "   loan_amnt  funded_amnt_inv term_in_months  int_rate grade sub_grade  \\\n",
       "0  5000       4975.0            36            10.65     B     B2         \n",
       "1  2500       2500.0            60            15.27     C     C4         \n",
       "2  2400       2400.0            36            15.96     C     C5         \n",
       "3  10000      10000.0           36            13.49     C     C1         \n",
       "5  5000       5000.0            36            7.90      A     A4         \n",
       "\n",
       "  emp_length home_ownership  annual_inc verification_status issue_d  \\\n",
       "0  10+ years  RENT           24000.0     Verified            Dec-11   \n",
       "1  < 1 year   RENT           30000.0     Source Verified     Dec-11   \n",
       "2  10+ years  RENT           12252.0     Not Verified        Dec-11   \n",
       "3  10+ years  RENT           49200.0     Source Verified     Dec-11   \n",
       "5  3 years    RENT           36000.0     Source Verified     Dec-11   \n",
       "\n",
       "   loan_status         purpose addr_state    dti  revol_util  \\\n",
       "0  Fully Paid   credit_card     AZ         27.65  83.7         \n",
       "1  Charged Off  car             GA         1.00   9.4          \n",
       "2  Fully Paid   small_business  IL         8.72   98.5         \n",
       "3  Fully Paid   other           CA         20.00  21.0         \n",
       "5  Fully Paid   wedding         AZ         11.20  28.3         \n",
       "\n",
       "   pub_rec_bankruptcies  \n",
       "0  0.0                   \n",
       "1  0.0                   \n",
       "2  0.0                   \n",
       "3  0.0                   \n",
       "5  0.0                   "
      ]
     },
     "execution_count": 30,
     "metadata": {},
     "output_type": "execute_result"
    }
   ],
   "source": [
    "#printing first 2 rows of loan_data\n",
    "loan_data.head()"
   ]
  },
  {
   "cell_type": "markdown",
   "id": "d0eecf5f",
   "metadata": {},
   "source": [
    "#### Lets rename emp_length to `emp_exp_in_years` and standardise the values by removing the special characters(<,+,..) "
   ]
  },
  {
   "cell_type": "code",
   "execution_count": 31,
   "id": "7019ef79",
   "metadata": {},
   "outputs": [
    {
     "name": "stdout",
     "output_type": "stream",
     "text": [
      "[10  1  3  8  9  4  5  6  2  7  0]\n"
     ]
    }
   ],
   "source": [
    "#Rename 'emp_length'  into 'emp_experience'\n",
    "loan_data.rename(columns = {'emp_length':'emp_exp_in_years'}, inplace = True)\n",
    "\n",
    "#Remove the special characters from emp_exp_in_years\n",
    "loan_data['emp_exp_in_years']=loan_data['emp_exp_in_years'].str.extract('(\\d+)', expand=False)\n",
    "\n",
    "#They are in string format let replace nan with '0' and convert them to int\n",
    "loan_data['emp_exp_in_years']=loan_data['emp_exp_in_years'].fillna(0).astype(int)\n",
    "print(loan_data.emp_exp_in_years.unique())\n",
    "\n",
    "#For more accurate analysis lets replace 0 with median\n",
    "loan_data['emp_exp_in_years']=loan_data['emp_exp_in_years'].replace(0,loan_data['emp_exp_in_years'].median())"
   ]
  },
  {
   "cell_type": "code",
   "execution_count": 32,
   "id": "8ef5ca4f",
   "metadata": {
    "scrolled": true
   },
   "outputs": [
    {
     "data": {
      "text/html": [
       "<div>\n",
       "<style scoped>\n",
       "    .dataframe tbody tr th:only-of-type {\n",
       "        vertical-align: middle;\n",
       "    }\n",
       "\n",
       "    .dataframe tbody tr th {\n",
       "        vertical-align: top;\n",
       "    }\n",
       "\n",
       "    .dataframe thead th {\n",
       "        text-align: right;\n",
       "    }\n",
       "</style>\n",
       "<table border=\"1\" class=\"dataframe\">\n",
       "  <thead>\n",
       "    <tr style=\"text-align: right;\">\n",
       "      <th></th>\n",
       "      <th>loan_amnt</th>\n",
       "      <th>funded_amnt_inv</th>\n",
       "      <th>term_in_months</th>\n",
       "      <th>int_rate</th>\n",
       "      <th>grade</th>\n",
       "      <th>sub_grade</th>\n",
       "      <th>emp_exp_in_years</th>\n",
       "      <th>home_ownership</th>\n",
       "      <th>annual_inc</th>\n",
       "      <th>verification_status</th>\n",
       "      <th>issue_d</th>\n",
       "      <th>loan_status</th>\n",
       "      <th>purpose</th>\n",
       "      <th>addr_state</th>\n",
       "      <th>dti</th>\n",
       "      <th>revol_util</th>\n",
       "      <th>pub_rec_bankruptcies</th>\n",
       "    </tr>\n",
       "  </thead>\n",
       "  <tbody>\n",
       "    <tr>\n",
       "      <th>0</th>\n",
       "      <td>5000</td>\n",
       "      <td>4975.0</td>\n",
       "      <td>36</td>\n",
       "      <td>10.65</td>\n",
       "      <td>B</td>\n",
       "      <td>B2</td>\n",
       "      <td>10</td>\n",
       "      <td>RENT</td>\n",
       "      <td>24000.0</td>\n",
       "      <td>Verified</td>\n",
       "      <td>Dec-11</td>\n",
       "      <td>Fully Paid</td>\n",
       "      <td>credit_card</td>\n",
       "      <td>AZ</td>\n",
       "      <td>27.65</td>\n",
       "      <td>83.7</td>\n",
       "      <td>0.0</td>\n",
       "    </tr>\n",
       "    <tr>\n",
       "      <th>1</th>\n",
       "      <td>2500</td>\n",
       "      <td>2500.0</td>\n",
       "      <td>60</td>\n",
       "      <td>15.27</td>\n",
       "      <td>C</td>\n",
       "      <td>C4</td>\n",
       "      <td>1</td>\n",
       "      <td>RENT</td>\n",
       "      <td>30000.0</td>\n",
       "      <td>Source Verified</td>\n",
       "      <td>Dec-11</td>\n",
       "      <td>Charged Off</td>\n",
       "      <td>car</td>\n",
       "      <td>GA</td>\n",
       "      <td>1.00</td>\n",
       "      <td>9.4</td>\n",
       "      <td>0.0</td>\n",
       "    </tr>\n",
       "  </tbody>\n",
       "</table>\n",
       "</div>"
      ],
      "text/plain": [
       "   loan_amnt  funded_amnt_inv term_in_months  int_rate grade sub_grade  \\\n",
       "0  5000       4975.0            36            10.65     B     B2         \n",
       "1  2500       2500.0            60            15.27     C     C4         \n",
       "\n",
       "   emp_exp_in_years home_ownership  annual_inc verification_status issue_d  \\\n",
       "0  10                RENT           24000.0     Verified            Dec-11   \n",
       "1  1                 RENT           30000.0     Source Verified     Dec-11   \n",
       "\n",
       "   loan_status      purpose addr_state    dti  revol_util  \\\n",
       "0  Fully Paid   credit_card  AZ         27.65  83.7         \n",
       "1  Charged Off  car          GA         1.00   9.4          \n",
       "\n",
       "   pub_rec_bankruptcies  \n",
       "0  0.0                   \n",
       "1  0.0                   "
      ]
     },
     "execution_count": 32,
     "metadata": {},
     "output_type": "execute_result"
    }
   ],
   "source": [
    "loan_data.head(2)"
   ]
  },
  {
   "cell_type": "code",
   "execution_count": 33,
   "id": "3bc1031a",
   "metadata": {},
   "outputs": [
    {
     "data": {
      "text/plain": [
       "Index(['loan_amnt', 'funded_amnt_inv', 'term_in_months', 'int_rate', 'grade',\n",
       "       'sub_grade', 'emp_exp_in_years', 'home_ownership', 'annual_inc',\n",
       "       'verification_status', 'issue_d', 'loan_status', 'purpose',\n",
       "       'addr_state', 'dti', 'revol_util', 'pub_rec_bankruptcies'],\n",
       "      dtype='object')"
      ]
     },
     "execution_count": 33,
     "metadata": {},
     "output_type": "execute_result"
    }
   ],
   "source": [
    "loan_data.columns"
   ]
  },
  {
   "cell_type": "code",
   "execution_count": 34,
   "id": "b7328331",
   "metadata": {},
   "outputs": [],
   "source": [
    "#lets convert issue_d to time series format and create issued_year and issued_month\n",
    "\n",
    "loan_data.issue_d = pd.to_datetime(loan_data.issue_d, format='%b-%y')\n",
    "loan_data['issued_month']=loan_data['issue_d'].dt.month\n",
    "loan_data['issued_year']=loan_data['issue_d'].dt.year\n",
    "\n",
    "# lets drop 'issue_d' column\n",
    "loan_data.drop(loan_data[[\"issue_d\"]],axis=1,inplace=True)"
   ]
  },
  {
   "cell_type": "markdown",
   "id": "16bd6ee2",
   "metadata": {},
   "source": [
    "#### Lets rename the following columns for better understanding:\n",
    "issue_d to `issue_date`\n",
    "\n",
    "dti to `dti_ratio`\n",
    "\n",
    "revol_util to `credit_utilisation`\n"
   ]
  },
  {
   "cell_type": "code",
   "execution_count": 35,
   "id": "fdc4c998",
   "metadata": {},
   "outputs": [],
   "source": [
    "#renaming column names\n",
    "loan_data.rename(columns = {'emp_length':'emp_exp_in_years', 'dti' :'debt_to_income_ratio',  \n",
    "                            'revol_util':'credit_utilisation' }, inplace = True)\n"
   ]
  },
  {
   "cell_type": "code",
   "execution_count": 36,
   "id": "3e52704d",
   "metadata": {},
   "outputs": [
    {
     "data": {
      "text/plain": [
       "loan_amnt               0.00\n",
       "funded_amnt_inv         0.00\n",
       "term_in_months          0.00\n",
       "int_rate                0.00\n",
       "grade                   0.00\n",
       "sub_grade               0.00\n",
       "emp_exp_in_years        0.00\n",
       "home_ownership          0.00\n",
       "annual_inc              0.00\n",
       "verification_status     0.00\n",
       "loan_status             0.00\n",
       "purpose                 0.00\n",
       "addr_state              0.00\n",
       "debt_to_income_ratio    0.00\n",
       "credit_utilisation      0.13\n",
       "pub_rec_bankruptcies    1.81\n",
       "issued_month            0.00\n",
       "issued_year             0.00\n",
       "dtype: float64"
      ]
     },
     "execution_count": 36,
     "metadata": {},
     "output_type": "execute_result"
    }
   ],
   "source": [
    "# lets check the percentage of missing values in the columns no\n",
    "round(100*(loan_data.isnull().sum()/len(loan_data.index)) , 2)"
   ]
  },
  {
   "cell_type": "markdown",
   "id": "0e54f267",
   "metadata": {},
   "source": [
    "#### `credit_utilisation` and `pub_rec_bankruptcies` have null values, lets replace them with their `median_value`"
   ]
  },
  {
   "cell_type": "code",
   "execution_count": 37,
   "id": "e218a723",
   "metadata": {},
   "outputs": [],
   "source": [
    "#Replace the two columns null values with median:\n",
    "loan_data.pub_rec_bankruptcies.fillna(loan_data['pub_rec_bankruptcies'].median(),inplace=True)\n",
    "loan_data.credit_utilisation.fillna(loan_data['credit_utilisation'].median(),inplace=True)"
   ]
  },
  {
   "cell_type": "code",
   "execution_count": 38,
   "id": "6d861b40",
   "metadata": {},
   "outputs": [
    {
     "data": {
      "text/html": [
       "<div>\n",
       "<style scoped>\n",
       "    .dataframe tbody tr th:only-of-type {\n",
       "        vertical-align: middle;\n",
       "    }\n",
       "\n",
       "    .dataframe tbody tr th {\n",
       "        vertical-align: top;\n",
       "    }\n",
       "\n",
       "    .dataframe thead th {\n",
       "        text-align: right;\n",
       "    }\n",
       "</style>\n",
       "<table border=\"1\" class=\"dataframe\">\n",
       "  <thead>\n",
       "    <tr style=\"text-align: right;\">\n",
       "      <th></th>\n",
       "      <th>loan_amnt</th>\n",
       "      <th>funded_amnt_inv</th>\n",
       "      <th>term_in_months</th>\n",
       "      <th>int_rate</th>\n",
       "      <th>grade</th>\n",
       "      <th>sub_grade</th>\n",
       "      <th>emp_exp_in_years</th>\n",
       "      <th>home_ownership</th>\n",
       "      <th>annual_inc</th>\n",
       "      <th>verification_status</th>\n",
       "      <th>loan_status</th>\n",
       "      <th>purpose</th>\n",
       "      <th>addr_state</th>\n",
       "      <th>debt_to_income_ratio</th>\n",
       "      <th>credit_utilisation</th>\n",
       "      <th>pub_rec_bankruptcies</th>\n",
       "      <th>issued_month</th>\n",
       "      <th>issued_year</th>\n",
       "    </tr>\n",
       "  </thead>\n",
       "  <tbody>\n",
       "    <tr>\n",
       "      <th>0</th>\n",
       "      <td>5000</td>\n",
       "      <td>4975.0</td>\n",
       "      <td>36</td>\n",
       "      <td>10.65</td>\n",
       "      <td>B</td>\n",
       "      <td>B2</td>\n",
       "      <td>10</td>\n",
       "      <td>RENT</td>\n",
       "      <td>24000.0</td>\n",
       "      <td>Verified</td>\n",
       "      <td>Fully Paid</td>\n",
       "      <td>credit_card</td>\n",
       "      <td>AZ</td>\n",
       "      <td>27.65</td>\n",
       "      <td>83.7</td>\n",
       "      <td>0.0</td>\n",
       "      <td>12</td>\n",
       "      <td>2011</td>\n",
       "    </tr>\n",
       "    <tr>\n",
       "      <th>1</th>\n",
       "      <td>2500</td>\n",
       "      <td>2500.0</td>\n",
       "      <td>60</td>\n",
       "      <td>15.27</td>\n",
       "      <td>C</td>\n",
       "      <td>C4</td>\n",
       "      <td>1</td>\n",
       "      <td>RENT</td>\n",
       "      <td>30000.0</td>\n",
       "      <td>Source Verified</td>\n",
       "      <td>Charged Off</td>\n",
       "      <td>car</td>\n",
       "      <td>GA</td>\n",
       "      <td>1.00</td>\n",
       "      <td>9.4</td>\n",
       "      <td>0.0</td>\n",
       "      <td>12</td>\n",
       "      <td>2011</td>\n",
       "    </tr>\n",
       "    <tr>\n",
       "      <th>2</th>\n",
       "      <td>2400</td>\n",
       "      <td>2400.0</td>\n",
       "      <td>36</td>\n",
       "      <td>15.96</td>\n",
       "      <td>C</td>\n",
       "      <td>C5</td>\n",
       "      <td>10</td>\n",
       "      <td>RENT</td>\n",
       "      <td>12252.0</td>\n",
       "      <td>Not Verified</td>\n",
       "      <td>Fully Paid</td>\n",
       "      <td>small_business</td>\n",
       "      <td>IL</td>\n",
       "      <td>8.72</td>\n",
       "      <td>98.5</td>\n",
       "      <td>0.0</td>\n",
       "      <td>12</td>\n",
       "      <td>2011</td>\n",
       "    </tr>\n",
       "    <tr>\n",
       "      <th>3</th>\n",
       "      <td>10000</td>\n",
       "      <td>10000.0</td>\n",
       "      <td>36</td>\n",
       "      <td>13.49</td>\n",
       "      <td>C</td>\n",
       "      <td>C1</td>\n",
       "      <td>10</td>\n",
       "      <td>RENT</td>\n",
       "      <td>49200.0</td>\n",
       "      <td>Source Verified</td>\n",
       "      <td>Fully Paid</td>\n",
       "      <td>other</td>\n",
       "      <td>CA</td>\n",
       "      <td>20.00</td>\n",
       "      <td>21.0</td>\n",
       "      <td>0.0</td>\n",
       "      <td>12</td>\n",
       "      <td>2011</td>\n",
       "    </tr>\n",
       "    <tr>\n",
       "      <th>5</th>\n",
       "      <td>5000</td>\n",
       "      <td>5000.0</td>\n",
       "      <td>36</td>\n",
       "      <td>7.90</td>\n",
       "      <td>A</td>\n",
       "      <td>A4</td>\n",
       "      <td>3</td>\n",
       "      <td>RENT</td>\n",
       "      <td>36000.0</td>\n",
       "      <td>Source Verified</td>\n",
       "      <td>Fully Paid</td>\n",
       "      <td>wedding</td>\n",
       "      <td>AZ</td>\n",
       "      <td>11.20</td>\n",
       "      <td>28.3</td>\n",
       "      <td>0.0</td>\n",
       "      <td>12</td>\n",
       "      <td>2011</td>\n",
       "    </tr>\n",
       "  </tbody>\n",
       "</table>\n",
       "</div>"
      ],
      "text/plain": [
       "   loan_amnt  funded_amnt_inv term_in_months  int_rate grade sub_grade  \\\n",
       "0  5000       4975.0            36            10.65     B     B2         \n",
       "1  2500       2500.0            60            15.27     C     C4         \n",
       "2  2400       2400.0            36            15.96     C     C5         \n",
       "3  10000      10000.0           36            13.49     C     C1         \n",
       "5  5000       5000.0            36            7.90      A     A4         \n",
       "\n",
       "   emp_exp_in_years home_ownership  annual_inc verification_status  \\\n",
       "0  10                RENT           24000.0     Verified             \n",
       "1  1                 RENT           30000.0     Source Verified      \n",
       "2  10                RENT           12252.0     Not Verified         \n",
       "3  10                RENT           49200.0     Source Verified      \n",
       "5  3                 RENT           36000.0     Source Verified      \n",
       "\n",
       "   loan_status         purpose addr_state  debt_to_income_ratio  \\\n",
       "0  Fully Paid   credit_card     AZ         27.65                  \n",
       "1  Charged Off  car             GA         1.00                   \n",
       "2  Fully Paid   small_business  IL         8.72                   \n",
       "3  Fully Paid   other           CA         20.00                  \n",
       "5  Fully Paid   wedding         AZ         11.20                  \n",
       "\n",
       "   credit_utilisation  pub_rec_bankruptcies  issued_month  issued_year  \n",
       "0  83.7                0.0                   12            2011         \n",
       "1  9.4                 0.0                   12            2011         \n",
       "2  98.5                0.0                   12            2011         \n",
       "3  21.0                0.0                   12            2011         \n",
       "5  28.3                0.0                   12            2011         "
      ]
     },
     "execution_count": 38,
     "metadata": {},
     "output_type": "execute_result"
    }
   ],
   "source": [
    "# lets see the final data\n",
    "loan_data.head()"
   ]
  },
  {
   "cell_type": "code",
   "execution_count": 39,
   "id": "f72c98ae",
   "metadata": {},
   "outputs": [
    {
     "data": {
      "text/html": [
       "<div>\n",
       "<style scoped>\n",
       "    .dataframe tbody tr th:only-of-type {\n",
       "        vertical-align: middle;\n",
       "    }\n",
       "\n",
       "    .dataframe tbody tr th {\n",
       "        vertical-align: top;\n",
       "    }\n",
       "\n",
       "    .dataframe thead th {\n",
       "        text-align: right;\n",
       "    }\n",
       "</style>\n",
       "<table border=\"1\" class=\"dataframe\">\n",
       "  <thead>\n",
       "    <tr style=\"text-align: right;\">\n",
       "      <th></th>\n",
       "      <th>loan_amnt</th>\n",
       "      <th>funded_amnt_inv</th>\n",
       "      <th>int_rate</th>\n",
       "      <th>emp_exp_in_years</th>\n",
       "      <th>annual_inc</th>\n",
       "      <th>debt_to_income_ratio</th>\n",
       "      <th>credit_utilisation</th>\n",
       "      <th>pub_rec_bankruptcies</th>\n",
       "      <th>issued_month</th>\n",
       "      <th>issued_year</th>\n",
       "    </tr>\n",
       "  </thead>\n",
       "  <tbody>\n",
       "    <tr>\n",
       "      <th>count</th>\n",
       "      <td>38577.00</td>\n",
       "      <td>38577.00</td>\n",
       "      <td>38577.00</td>\n",
       "      <td>38577.00</td>\n",
       "      <td>38577.00</td>\n",
       "      <td>38577.00</td>\n",
       "      <td>38577.00</td>\n",
       "      <td>38577.00</td>\n",
       "      <td>38577.00</td>\n",
       "      <td>38577.00</td>\n",
       "    </tr>\n",
       "    <tr>\n",
       "      <th>mean</th>\n",
       "      <td>11047.03</td>\n",
       "      <td>10222.48</td>\n",
       "      <td>11.93</td>\n",
       "      <td>5.03</td>\n",
       "      <td>68777.97</td>\n",
       "      <td>13.27</td>\n",
       "      <td>48.70</td>\n",
       "      <td>0.04</td>\n",
       "      <td>7.11</td>\n",
       "      <td>2010.31</td>\n",
       "    </tr>\n",
       "    <tr>\n",
       "      <th>std</th>\n",
       "      <td>7348.44</td>\n",
       "      <td>7022.72</td>\n",
       "      <td>3.69</td>\n",
       "      <td>3.36</td>\n",
       "      <td>64218.68</td>\n",
       "      <td>6.67</td>\n",
       "      <td>28.35</td>\n",
       "      <td>0.20</td>\n",
       "      <td>3.41</td>\n",
       "      <td>0.88</td>\n",
       "    </tr>\n",
       "    <tr>\n",
       "      <th>min</th>\n",
       "      <td>500.00</td>\n",
       "      <td>0.00</td>\n",
       "      <td>5.42</td>\n",
       "      <td>1.00</td>\n",
       "      <td>4000.00</td>\n",
       "      <td>0.00</td>\n",
       "      <td>0.00</td>\n",
       "      <td>0.00</td>\n",
       "      <td>1.00</td>\n",
       "      <td>2007.00</td>\n",
       "    </tr>\n",
       "    <tr>\n",
       "      <th>25%</th>\n",
       "      <td>5300.00</td>\n",
       "      <td>5000.00</td>\n",
       "      <td>8.94</td>\n",
       "      <td>2.00</td>\n",
       "      <td>40000.00</td>\n",
       "      <td>8.13</td>\n",
       "      <td>25.20</td>\n",
       "      <td>0.00</td>\n",
       "      <td>4.00</td>\n",
       "      <td>2010.00</td>\n",
       "    </tr>\n",
       "    <tr>\n",
       "      <th>50%</th>\n",
       "      <td>9600.00</td>\n",
       "      <td>8733.44</td>\n",
       "      <td>11.71</td>\n",
       "      <td>4.00</td>\n",
       "      <td>58868.00</td>\n",
       "      <td>13.37</td>\n",
       "      <td>49.10</td>\n",
       "      <td>0.00</td>\n",
       "      <td>7.00</td>\n",
       "      <td>2011.00</td>\n",
       "    </tr>\n",
       "    <tr>\n",
       "      <th>75%</th>\n",
       "      <td>15000.00</td>\n",
       "      <td>14000.00</td>\n",
       "      <td>14.38</td>\n",
       "      <td>9.00</td>\n",
       "      <td>82000.00</td>\n",
       "      <td>18.56</td>\n",
       "      <td>72.20</td>\n",
       "      <td>0.00</td>\n",
       "      <td>10.00</td>\n",
       "      <td>2011.00</td>\n",
       "    </tr>\n",
       "    <tr>\n",
       "      <th>max</th>\n",
       "      <td>35000.00</td>\n",
       "      <td>35000.00</td>\n",
       "      <td>24.40</td>\n",
       "      <td>10.00</td>\n",
       "      <td>6000000.00</td>\n",
       "      <td>29.99</td>\n",
       "      <td>99.90</td>\n",
       "      <td>2.00</td>\n",
       "      <td>12.00</td>\n",
       "      <td>2011.00</td>\n",
       "    </tr>\n",
       "  </tbody>\n",
       "</table>\n",
       "</div>"
      ],
      "text/plain": [
       "       loan_amnt  funded_amnt_inv  int_rate  emp_exp_in_years  annual_inc  \\\n",
       "count  38577.00   38577.00         38577.00  38577.00          38577.00     \n",
       "mean   11047.03   10222.48         11.93     5.03              68777.97     \n",
       "std    7348.44    7022.72          3.69      3.36              64218.68     \n",
       "min    500.00     0.00             5.42      1.00              4000.00      \n",
       "25%    5300.00    5000.00          8.94      2.00              40000.00     \n",
       "50%    9600.00    8733.44          11.71     4.00              58868.00     \n",
       "75%    15000.00   14000.00         14.38     9.00              82000.00     \n",
       "max    35000.00   35000.00         24.40     10.00             6000000.00   \n",
       "\n",
       "       debt_to_income_ratio  credit_utilisation  pub_rec_bankruptcies  \\\n",
       "count  38577.00              38577.00            38577.00               \n",
       "mean   13.27                 48.70               0.04                   \n",
       "std    6.67                  28.35               0.20                   \n",
       "min    0.00                  0.00                0.00                   \n",
       "25%    8.13                  25.20               0.00                   \n",
       "50%    13.37                 49.10               0.00                   \n",
       "75%    18.56                 72.20               0.00                   \n",
       "max    29.99                 99.90               2.00                   \n",
       "\n",
       "       issued_month  issued_year  \n",
       "count  38577.00      38577.00     \n",
       "mean   7.11          2010.31      \n",
       "std    3.41          0.88         \n",
       "min    1.00          2007.00      \n",
       "25%    4.00          2010.00      \n",
       "50%    7.00          2011.00      \n",
       "75%    10.00         2011.00      \n",
       "max    12.00         2011.00      "
      ]
     },
     "execution_count": 39,
     "metadata": {},
     "output_type": "execute_result"
    }
   ],
   "source": [
    "loan_data.describe().round(2)"
   ]
  },
  {
   "cell_type": "code",
   "execution_count": 40,
   "id": "5e8e9bb1",
   "metadata": {},
   "outputs": [
    {
     "data": {
      "text/plain": [
       "loan_amnt               0.0\n",
       "funded_amnt_inv         0.0\n",
       "term_in_months          0.0\n",
       "int_rate                0.0\n",
       "grade                   0.0\n",
       "sub_grade               0.0\n",
       "emp_exp_in_years        0.0\n",
       "home_ownership          0.0\n",
       "annual_inc              0.0\n",
       "verification_status     0.0\n",
       "loan_status             0.0\n",
       "purpose                 0.0\n",
       "addr_state              0.0\n",
       "debt_to_income_ratio    0.0\n",
       "credit_utilisation      0.0\n",
       "pub_rec_bankruptcies    0.0\n",
       "issued_month            0.0\n",
       "issued_year             0.0\n",
       "dtype: float64"
      ]
     },
     "execution_count": 40,
     "metadata": {},
     "output_type": "execute_result"
    }
   ],
   "source": [
    "#lets have a final check to confirm we removed the null values\n",
    "round(100*(loan_data.isnull().sum()/len(loan_data.index)) , 2)"
   ]
  },
  {
   "cell_type": "code",
   "execution_count": 41,
   "id": "f1d2e2d8",
   "metadata": {},
   "outputs": [],
   "source": [
    "#making deep copy for safety purpose\n",
    "safedata=loan_data.copy(deep= True)"
   ]
  },
  {
   "cell_type": "code",
   "execution_count": 42,
   "id": "be991915",
   "metadata": {},
   "outputs": [
    {
     "data": {
      "text/plain": [
       "Index(['loan_amnt', 'funded_amnt_inv', 'term_in_months', 'int_rate', 'grade',\n",
       "       'sub_grade', 'emp_exp_in_years', 'home_ownership', 'annual_inc',\n",
       "       'verification_status', 'loan_status', 'purpose', 'addr_state',\n",
       "       'debt_to_income_ratio', 'credit_utilisation', 'pub_rec_bankruptcies',\n",
       "       'issued_month', 'issued_year'],\n",
       "      dtype='object')"
      ]
     },
     "execution_count": 42,
     "metadata": {},
     "output_type": "execute_result"
    }
   ],
   "source": [
    "#print the columns after DataCleaning Process\n",
    "loan_data.columns"
   ]
  },
  {
   "cell_type": "code",
   "execution_count": 43,
   "id": "878c9124",
   "metadata": {},
   "outputs": [
    {
     "data": {
      "text/plain": [
       "(38577, 18)"
      ]
     },
     "execution_count": 43,
     "metadata": {},
     "output_type": "execute_result"
    }
   ],
   "source": [
    "#Print shape of the table after DataCleaning Process\n",
    "loan_data.shape"
   ]
  },
  {
   "cell_type": "markdown",
   "id": "6aa0a3e2",
   "metadata": {},
   "source": [
    "### 3. Univariate Analysis"
   ]
  },
  {
   "cell_type": "markdown",
   "id": "ff0609dc",
   "metadata": {},
   "source": [
    "#### Lets study the distribution of each column which helps in understanding the distribution and in removing the outliers, if any. "
   ]
  },
  {
   "cell_type": "markdown",
   "id": "0e7c5427",
   "metadata": {},
   "source": [
    "#### `loan_amnt:`"
   ]
  },
  {
   "cell_type": "code",
   "execution_count": 44,
   "id": "9d2b0a18",
   "metadata": {},
   "outputs": [
    {
     "data": {
      "image/png": "[encoded data removed]",
      "text/plain": [
       "<Figure size 864x360 with 4 Axes>"
      ]
     },
     "metadata": {
      "needs_background": "light"
     },
     "output_type": "display_data"
    }
   ],
   "source": [
    "#Increasing the figure size of the plot\n",
    "plt.figure(figsize=[12,5])\n",
    "\n",
    "#subplot 1\n",
    "plt.subplot(2,2,1)         \n",
    "#Create a kdeplot for loan_amount applied\n",
    "sns.kdeplot(loan_data.loan_amnt, shade=True, color=\"b\") \n",
    "#subplot 2\n",
    "plt.subplot(2,2,2)\n",
    "#Create a boxplot for loan_amount applied\n",
    "sns.boxplot(loan_data.loan_amnt, palette=\"Blues\") \n",
    "\n",
    "#subplot 3\n",
    "plt.subplot(2,2,3) \n",
    "#Create a kdeplot for funded_amount_inv\n",
    "sns.kdeplot(loan_data.funded_amnt_inv,shade=True, color=\"b\")\n",
    "#subplot 4\n",
    "plt.subplot(2,2,4) \n",
    "#Create a boxplot for funded_amount_inv\n",
    "sns.boxplot(loan_data.funded_amnt_inv, palette=\"Blues\")\n",
    "\n",
    "            \n",
    "# Plot Header\n",
    "plt.suptitle(\"loan_amount distribution and Funded amount inv distribution\",\n",
    "             fontdict={'fontsize': 15, 'fontweight' : 7, 'color' : 'blue'})\n",
    "plt.show()"
   ]
  },
  {
   "cell_type": "markdown",
   "id": "6926b101",
   "metadata": {},
   "source": [
    "#### Observation:\n"
   ]
  },
  {
   "cell_type": "markdown",
   "id": "3f2c0d32",
   "metadata": {},
   "source": [
    "Here we understand that both the `loan_amnt` applied and `funded_amnt_inv` are similar.\n",
    "So for our analysis we consider `funded_amnt_inv` for ease of getting insights.\n",
    "\n",
    "Findings in `funded_amnt_inv`Boxplot:\n",
    "- Most of the applicants are funded with 5000 to 15000.\n",
    "- There are less number of people who are funded more than 28000.\n"
   ]
  },
  {
   "cell_type": "markdown",
   "id": "e73758b2",
   "metadata": {},
   "source": [
    "#### `annual_inc:`"
   ]
  },
  {
   "cell_type": "code",
   "execution_count": 45,
   "id": "5d78aa6a",
   "metadata": {},
   "outputs": [
    {
     "data": {
      "image/png": "[encoded data removed]",
      "text/plain": [
       "<Figure size 936x288 with 2 Axes>"
      ]
     },
     "metadata": {
      "needs_background": "light"
     },
     "output_type": "display_data"
    }
   ],
   "source": [
    "# lets understand annual_inc column:\n",
    "\n",
    "\n",
    "# lets use subplots concept to see distribution and description side by side:\n",
    "#figure is name of total plot\n",
    "fig = plt.figure(figsize=(13,4))\n",
    "\n",
    "#subplot_1 to create boxplot of annual inc\n",
    "subplot_1 = fig.add_subplot(121)\n",
    "subplot_1.boxplot(loan_data.annual_inc )\n",
    "subplot_1.set_title('Distribution of Annual income')\n",
    "\n",
    "#sal_desc is description of annual_sal rounded to 2 decimals.\n",
    "sal_desc = loan_data.annual_inc.describe().to_frame().round(2)\n",
    "\n",
    "#subplot_2 for creation table for sal_desc\n",
    "subplot_2 = fig.add_subplot(122)\n",
    "font_size=12\n",
    "bbox=[0, 0, 1, 1]\n",
    "subplot_2.axis('off')\n",
    "#creating table and adding subplot2 values:\n",
    "annual_inc_table = subplot_2.table(cellText = sal_desc.values, rowLabels = sal_desc.index, \n",
    "                                   bbox=bbox, colLabels=sal_desc.columns)\n",
    "annual_inc_table.auto_set_font_size(False)\n",
    "annual_inc_table.set_fontsize(font_size)"
   ]
  },
  {
   "cell_type": "markdown",
   "id": "6095cf56",
   "metadata": {},
   "source": [
    "Here we understand that both the `annual_inc` has outliers which affect the analysis and hence should be removed.\n"
   ]
  },
  {
   "cell_type": "code",
   "execution_count": 46,
   "id": "63e112ef",
   "metadata": {},
   "outputs": [
    {
     "data": {
      "text/plain": [
       "count    38577.00  \n",
       "mean     68777.97  \n",
       "std      64218.68  \n",
       "min      4000.00   \n",
       "10%      30000.00  \n",
       "20%      37196.16  \n",
       "25%      40000.00  \n",
       "50%      58868.00  \n",
       "60%      65004.00  \n",
       "75%      82000.00  \n",
       "90%      115000.00 \n",
       "95%      140004.00 \n",
       "98%      187000.00 \n",
       "99%      234144.00 \n",
       "max      6000000.00\n",
       "Name: annual_inc, dtype: float64"
      ]
     },
     "execution_count": 46,
     "metadata": {},
     "output_type": "execute_result"
    }
   ],
   "source": [
    "#lets decribe the annual_inc for different Quartiles:\n",
    "loan_data.annual_inc.describe(percentiles = [0.1,0.2,0.25,0.5,0.6,0.75,0.9,0.95,0.98,0.99]).round(2)"
   ]
  },
  {
   "cell_type": "code",
   "execution_count": 47,
   "id": "d9a30b1c",
   "metadata": {},
   "outputs": [
    {
     "name": "stdout",
     "output_type": "stream",
     "text": [
      "Loan_data shape before outlier treatment:  (38577, 18)\n",
      "Loan_data shape before outlier treatment:  (38191, 18)\n"
     ]
    }
   ],
   "source": [
    "#Outlier Treatment: removing the outilers after 99 Quartile\n",
    "print(\"Loan_data shape before outlier treatment: \",loan_data.shape)\n",
    "loan_data = loan_data[loan_data[\"annual_inc\"] < loan_data[\"annual_inc\"].quantile(0.99)]\n",
    "print(\"Loan_data shape before outlier treatment: \",loan_data.shape)\n",
    "#Checking the values for annual income(annual_inc) using describe()\n"
   ]
  },
  {
   "cell_type": "markdown",
   "id": "48ab6b6a",
   "metadata": {},
   "source": [
    "lets create box plot and distribution desc in a table to compare:\n"
   ]
  },
  {
   "cell_type": "code",
   "execution_count": 48,
   "id": "5869a107",
   "metadata": {},
   "outputs": [
    {
     "data": {
      "image/png": "[encoded data removed]",
      "text/plain": [
       "<Figure size 936x288 with 2 Axes>"
      ]
     },
     "metadata": {
      "needs_background": "light"
     },
     "output_type": "display_data"
    }
   ],
   "source": [
    "#fig_2 is name of total plot\n",
    "fig_2 = plt.figure(figsize=(13,4))\n",
    "\n",
    "#subplot_1 to create boxplot of annual inc\n",
    "subplot_1 = fig_2.add_subplot(121)\n",
    "subplot_1.boxplot(loan_data.annual_inc)\n",
    "subplot_1.set_title('Distribution of Annual income after removing outliers')\n",
    "\n",
    "#sal_desc is description of annual_sal rounded to 2 decimals.\n",
    "sal_desc = loan_data.annual_inc.describe().to_frame().round(2)\n",
    "\n",
    "#subplot_2 for creation table for sal_desc\n",
    "subplot_2 = fig_2.add_subplot(122)\n",
    "font_size=12\n",
    "bbox=[0, 0, 1, 1]\n",
    "subplot_2.axis('off')\n",
    "#creating table and adding subplot2 values:\n",
    "annual_inc_table = subplot_2.table(cellText = sal_desc.values, rowLabels = sal_desc.index, \n",
    "                                   bbox=bbox, colLabels=sal_desc.columns)\n",
    "annual_inc_table.auto_set_font_size(False)\n",
    "annual_inc_table.set_fontsize(font_size)"
   ]
  },
  {
   "cell_type": "markdown",
   "id": "d8595fff",
   "metadata": {},
   "source": [
    "#### `emp_exp_in_years:`"
   ]
  },
  {
   "cell_type": "code",
   "execution_count": 49,
   "id": "de5d3f63",
   "metadata": {},
   "outputs": [
    {
     "data": {
      "image/png": "[encoded data removed]",
      "text/plain": [
       "<Figure size 1152x360 with 3 Axes>"
      ]
     },
     "metadata": {
      "needs_background": "light"
     },
     "output_type": "display_data"
    }
   ],
   "source": [
    "#Lets understand emp_exp_in_years in years with plots\n",
    "#Increasing the figure size of the plot \n",
    "plt.figure(figsize=[16,5])\n",
    "\n",
    "#subplot 1\n",
    "plt.subplot(1,3,1)         \n",
    "#Create a kdeplot for emp_exp_in_years applied\n",
    "sns.kdeplot(loan_data.emp_exp_in_years, shade=True, color=\"blue\") \n",
    "plt.title(\"kdeplot of emp_exp_in_years\",fontdict={'fontsize': 10, 'fontweight' : 6, 'color' : 'blue'})\n",
    "\n",
    "#subplot 2\n",
    "plt.subplot(1,3,2)\n",
    "#Create a boxplot for emp_exp_in_years applied\n",
    "sns.boxplot(loan_data.emp_exp_in_years, palette=\"Blues\") \n",
    "plt.title(\"Distribution of emp_exp_in_years\",fontdict={'fontsize': 10, 'fontweight' : 6, 'color' : 'cornflowerblue'})\n",
    "\n",
    "#subplot 3\n",
    "plt.subplot(1,3,3)\n",
    "#Create a countplot for emp_exp_in_years applied\n",
    "ax= sns.countplot(loan_data.emp_exp_in_years,palette = \"Set3\") \n",
    "plt.title(\"Countplot\",fontdict={'fontsize': 10, 'fontweight' : 6, 'color' : 'teal'})\n",
    "#lets show valuecounts on top of each patch\n",
    "for p in ax.patches:\n",
    "    ax.annotate(f'\\n{p.get_height()}', (p.get_x()+0.08, p.get_height()), color='Black', size=8)         \n",
    "# Plot Header\n",
    "plt.suptitle(\"Employee experience distribution plots\",size=15, color='firebrick')\n",
    "#plot the final countplot\n",
    "plt.show()"
   ]
  },
  {
   "cell_type": "markdown",
   "id": "dd3b112a",
   "metadata": {},
   "source": [
    "#### Observation:"
   ]
  },
  {
   "cell_type": "markdown",
   "id": "ad05fb1a",
   "metadata": {},
   "source": [
    "By the above three graphs we can infer that:\n",
    " - Employees experience median is 4 years.\n",
    " - Also most of the employees who took loan are 10/10+ years experienced and <2 years exp employees take second place.\n",
    " \n"
   ]
  },
  {
   "cell_type": "markdown",
   "id": "4752d956",
   "metadata": {},
   "source": [
    "#### `Grade: `"
   ]
  },
  {
   "cell_type": "markdown",
   "id": "f8115174",
   "metadata": {},
   "source": [
    "Performing univariate analysis on `grade` column is sufficient, \n",
    "\n",
    "We can skip performing it on `sub_grade` because its like performing `Binned Univariate Analysis` on `Grade`\n"
   ]
  },
  {
   "cell_type": "code",
   "execution_count": 50,
   "id": "d89f9827",
   "metadata": {
    "scrolled": false
   },
   "outputs": [
    {
     "name": "stdout",
     "output_type": "stream",
     "text": [
      "B    11581\n",
      "A    9977 \n",
      "C    7753 \n",
      "D    5027 \n",
      "E    2610 \n",
      "F    954  \n",
      "G    289  \n",
      "Name: grade, dtype: int64\n"
     ]
    },
    {
     "data": {
      "image/png": "[encoded data removed]",
      "text/plain": [
       "<Figure size 720x360 with 1 Axes>"
      ]
     },
     "metadata": {
      "needs_background": "light"
     },
     "output_type": "display_data"
    }
   ],
   "source": [
    "#Lets understand the distribution of Grade column and sub_grade:\n",
    "\n",
    "# Grade column can be understood with valuecounts method but lets use visualization with valuecounts for better understanding.\n",
    "print(loan_data.grade.value_counts())\n",
    "\n",
    "#lets plot countplot with seaborn in ascending order:\n",
    "plt.figure(figsize=[10,5])\n",
    " \n",
    "order=loan_data.grade.value_counts(ascending=True).index    #lets plot the purpose by order of ascending values.\n",
    "ax = sns.countplot(loan_data.grade,palette = \"Set3\",order=order) #seaborn countplot in order we want\n",
    "plt.title(\"Countplot for Grades of applicants\",fontdict={'fontsize': 10, 'fontweight' : 6, 'color' : 'teal'})\n",
    "plt.xlabel(\"Grades\")\n",
    "plt.ylabel(\"Grade Counts\")\n",
    "plt.xticks(rotation=90) #to see the x ticks properly without overlap\n",
    "\n",
    "#lets indicate count on each patch of the countplot\n",
    "for p in ax.patches:\n",
    "    ax.annotate(f'\\n{p.get_height()}', (p.get_x()+0.2, p.get_height()), color='Black', size=10)\n",
    "\n",
    "#plotting the final countplot\n",
    "plt.show()"
   ]
  },
  {
   "cell_type": "markdown",
   "id": "6e71b7ac",
   "metadata": {},
   "source": [
    "#### Observation:\n",
    "\n",
    "    "
   ]
  },
  {
   "cell_type": "markdown",
   "id": "79b5ae2d",
   "metadata": {},
   "source": [
    "From the two charts we can infer that:\n",
    "- Most loans sanctioned are to Grade B, A applicants followed by C.\n",
    "- Very less percentage of loans are disbursed to grade G,F applicants.\n"
   ]
  },
  {
   "cell_type": "markdown",
   "id": "c5c0aafb",
   "metadata": {},
   "source": [
    "#### `purpose:`"
   ]
  },
  {
   "cell_type": "code",
   "execution_count": 51,
   "id": "4cac1db4",
   "metadata": {
    "scrolled": false
   },
   "outputs": [
    {
     "data": {
      "image/png": "[encoded data removed]",
      "text/plain": [
       "<Figure size 864x360 with 1 Axes>"
      ]
     },
     "metadata": {
      "needs_background": "light"
     },
     "output_type": "display_data"
    }
   ],
   "source": [
    "#Now lets study loan purpose column\n",
    "plt.figure(figsize=[12,5])\n",
    "\n",
    "order=loan_data.purpose.value_counts(ascending=True).index    #lets plot the purpose by order of ascending values.\n",
    "ax=sns.countplot(loan_data.purpose,palette = \"Set2\",order=order) #seaborn countplot in order we want\n",
    "plt.title(\"Countplot for Loan purpose\",fontdict={'fontsize': 10, 'fontweight' : 6, 'color' : 'teal'})\n",
    "plt.xlabel(\"loan purpose\")\n",
    "plt.ylabel(\"Number of loans count\")\n",
    "plt.xticks(rotation=90) #to see the x ticks properly without overlap\n",
    "\n",
    "#lets indicate count on each patch of the countplot\n",
    "for p in ax.patches:\n",
    "    ax.annotate(f'\\n{p.get_height()}', (p.get_x()+0.1, p.get_height()), color='Black', size=10)\n",
    "#plotting the final countplot\n",
    "plt.show()"
   ]
  },
  {
   "cell_type": "markdown",
   "id": "e34ee634",
   "metadata": {},
   "source": [
    "#### Observation:\n",
    "Its clear that most of the Loans are taken towards debt consolidation.\n",
    "\n",
    "(Debt_consolidation is taken to combine all debts/payables into one bill to avoid the hassle of paying multiple bills at high interest rate)"
   ]
  },
  {
   "cell_type": "markdown",
   "id": "2690f5e6",
   "metadata": {},
   "source": [
    "#### `home_ownership`"
   ]
  },
  {
   "cell_type": "code",
   "execution_count": 52,
   "id": "44cda6fb",
   "metadata": {},
   "outputs": [
    {
     "data": {
      "image/png": "[encoded data removed]",
      "text/plain": [
       "<Figure size 504x288 with 1 Axes>"
      ]
     },
     "metadata": {
      "needs_background": "light"
     },
     "output_type": "display_data"
    }
   ],
   "source": [
    "#Lets study the values of home_ownership with countplot\n",
    "\n",
    "order=loan_data.home_ownership.value_counts(ascending=True).index    #lets plot the home_ownership by order of ascending values.\n",
    "plt.figure(figsize=[7,4])                                            #To enlarge the plot\n",
    "ax=sns.countplot(loan_data.home_ownership,palette = \"Set2\",order=order) #seaborn countplot in order we want\n",
    "plt.title(\"Countplot for home_ownership\",fontdict={'fontsize': 10, 'fontweight' : 6, 'color' : 'teal'})\n",
    "plt.xlabel(\"Type of ownership\")\n",
    "plt.ylabel(\"Type count\")\n",
    "plt.xticks(rotation=90) #to see the x ticks properly without overlap\n",
    "\n",
    "#lets indicate count on each patch of the countplot\n",
    "for p in ax.patches:\n",
    "    ax.annotate(f'\\n{p.get_height()}', (p.get_x()+0.22, p.get_height()), color='Black', size=10)\n",
    "#plotting the final countplot\n",
    "plt.show()"
   ]
  },
  {
   "cell_type": "markdown",
   "id": "d02fe95b",
   "metadata": {},
   "source": [
    "#### Obervation:"
   ]
  },
  {
   "cell_type": "markdown",
   "id": "e8795e25",
   "metadata": {},
   "source": [
    "So we can conclude that \n",
    "- `Rent` payers and people with `Mortgage` are highest among the applicants\n",
    "- `Own` and `Other` category people are considerably less in the list of Loan applicants."
   ]
  },
  {
   "cell_type": "markdown",
   "id": "16b6dbfd",
   "metadata": {},
   "source": [
    "#### `Addr_state`"
   ]
  },
  {
   "cell_type": "code",
   "execution_count": 53,
   "id": "c4c7b496",
   "metadata": {},
   "outputs": [
    {
     "data": {
      "image/png": "[encoded data removed]",
      "text/plain": [
       "<Figure size 1440x576 with 1 Axes>"
      ]
     },
     "metadata": {
      "needs_background": "light"
     },
     "output_type": "display_data"
    }
   ],
   "source": [
    "#Lets study the values of addr_state with countplot\n",
    "\n",
    "order=loan_data.addr_state.value_counts(ascending=True).index    #lets plot the addr_state by order of ascending values.\n",
    "plt.figure(figsize=[20,8])                                            #To enlarge the plot\n",
    "ax=sns.countplot(loan_data.addr_state,palette = \"Set2\",order=order) #seaborn countplot in order we want\n",
    "plt.title(\"Countplot for addr_state\",fontdict={'fontsize': 10, 'fontweight' : 6, 'color' : 'teal'})\n",
    "plt.xlabel(\"State code\")\n",
    "plt.ylabel(\"State count\")\n",
    "plt.xticks(rotation=90) #to see the x ticks properly without overlap\n",
    "\n",
    "plt.show()"
   ]
  },
  {
   "cell_type": "markdown",
   "id": "e1f8b277",
   "metadata": {},
   "source": [
    "#### Obervation:"
   ]
  },
  {
   "cell_type": "markdown",
   "id": "5c5c0055",
   "metadata": {},
   "source": [
    "- We understand that most applicants are from `CA`, `NY` driving majority of business to the banks.\n",
    "\n",
    "But seeing things from business perspective location may not be a big factor for getting insights. \n",
    "\n",
    "[Lets perform multivariate analsysis, later in the session and conclude]"
   ]
  },
  {
   "cell_type": "markdown",
   "id": "bde591ec",
   "metadata": {},
   "source": [
    "### 4.Bivariate analyis:"
   ]
  },
  {
   "cell_type": "markdown",
   "id": "6d36a6d9",
   "metadata": {},
   "source": [
    "#### Bivariate Analysis is used to find the relationship between two variables."
   ]
  },
  {
   "cell_type": "markdown",
   "id": "b8111c1a",
   "metadata": {},
   "source": [
    "Lets perform bivariate analysis on few sets of variables and derive insights"
   ]
  },
  {
   "cell_type": "code",
   "execution_count": 54,
   "id": "b3875533",
   "metadata": {},
   "outputs": [],
   "source": [
    "#Before we start and perform the analysis, lets derive some columns from the existing columns and bin them\n",
    "#It helps us understand the behaviour or relationship of the variable.\n",
    "\n",
    "# categorise interest rates \n",
    "loan_data['int_rate_category'] = pd.cut(loan_data['int_rate'], [0, 5, 10, 15, 20, np.inf], \n",
    "                                        labels=['0-5%', '5-10%', '10-15%', '15-20%', '+20%'])\n",
    "\n",
    "# categorise funded amounts disbursed\n",
    "loan_data['funded_amnt_category'] = pd.cut(loan_data.funded_amnt_inv, [0, 7000, 14000, 21000, 28000, np.inf],\n",
    "                                           labels=['0-7000', '7000-14000', '14000-21000', '21000-28000', '+28000'])\n",
    "\n",
    "# categorise annual incomes \n",
    "loan_data[\"annual_inc_category\"]=pd.cut(loan_data['annual_inc'],  [0, 25000, 50000, 75000, 100000,np.inf], \n",
    "                                        labels=['0-25000', '25000-50000', '50000-75000', '75000-100000', '100000 and above'])\n",
    "# categorise revol_util \n",
    "loan_data['credit_utilisation_category'] = pd.cut(loan_data['credit_utilisation'], [0, 20, 40, 60, 80, np.inf], \n",
    "                                          labels=['0-20%', '20-40%', '40-60%', '60-80%', '80-100%'])\n",
    "\n",
    "# categorise debt_to_income_ratio\n",
    "loan_data['debt_to_income_ratio_category'] = pd.cut(loan_data['debt_to_income_ratio'], [0, 5, 10, 15, 20, np.inf], \n",
    "                                             labels=['0-5%', '5-10%', '10-15%', '15-20%', '+20%'])\n"
   ]
  },
  {
   "cell_type": "markdown",
   "id": "44acf8d0",
   "metadata": {},
   "source": [
    "#### - Our motto is to find the customers who are likely to charge off.\n",
    "#### - So we perform bivariate analysis on `loan_status vs rest of the columns`\n",
    "#### - Since we perform the plots for each bivariate, Lets create a function and use it whenever we require\n"
   ]
  },
  {
   "cell_type": "code",
   "execution_count": 55,
   "id": "db009f96",
   "metadata": {},
   "outputs": [],
   "source": [
    "# This function takes the numerical column variable and size of the plot as input \n",
    "# performs the calculation against the loan_status categorical variables\n",
    "#returns the percentage of people who charged off and paid completely categorised againt the input variable\n",
    "\n",
    "def plotter(column,a=(12,6),c=('darkseagreen','cadetblue')):        #a,c are default arguments, can pass other values if needed\n",
    "    table= pd.crosstab(column,loan_data['loan_status'])             #create a table with input and loan_status \n",
    "    table['sum'] = table['Charged Off'] + table['Fully Paid']       #sum required to calculate percentage \n",
    "    table['charged_off %'] = round((table['Charged Off']/table['sum'])*100, 2)## calculating percentage of the two status\n",
    "    table['fully_paid %'] = round((table['Fully Paid']/table['sum'])*100, 2)  ###values vs input column values \n",
    "    table.drop(columns=['Charged Off', 'Fully Paid', 'sum'], inplace=True)    #remove 'Charged Off', 'Fully Paid', 'sum'\n",
    "    print(table.sort_values(by='charged_off %'))\n",
    "    table.sort_values(by='charged_off %').plot.bar(figsize=a,  title=column.name.title()+' vs Loan Status', color=c)\n",
    "    plt.title(column.name.title()+' vs Loan Status\\n', fontdict={'fontsize': 16, 'fontweight' : 4, 'color' : 'maroon'})\n",
    "    plt.xlabel(column.name.title(), fontdict={'fontsize': 12, 'fontweight' : 5, 'color' : 'black'})\n",
    "    plt.ylabel(\"Loan status Percentages\", fontdict={'fontsize': 12, 'fontweight' : 5, 'color' : 'black'})\n",
    "    #display the plot\n",
    "    plt.show()"
   ]
  },
  {
   "cell_type": "markdown",
   "id": "6fd6e3b5",
   "metadata": {},
   "source": [
    "### `loan_amount_funded category` vs `Loan_status`"
   ]
  },
  {
   "cell_type": "code",
   "execution_count": 56,
   "id": "c2552c67",
   "metadata": {},
   "outputs": [
    {
     "name": "stdout",
     "output_type": "stream",
     "text": [
      "loan_status           charged_off %  fully_paid %\n",
      "funded_amnt_category                             \n",
      "7000-14000            13.36          86.64       \n",
      "0-7000                13.90          86.10       \n",
      "14000-21000           16.79          83.21       \n",
      "21000-28000           17.64          82.36       \n",
      "+28000                22.29          77.71       \n"
     ]
    },
    {
     "data": {
      "image/png": "[encoded data removed]",
      "text/plain": [
       "<Figure size 864x432 with 1 Axes>"
      ]
     },
     "metadata": {
      "needs_background": "light"
     },
     "output_type": "display_data"
    }
   ],
   "source": [
    "plotter(loan_data.funded_amnt_category)  #funded_amnt_category is parameter we perform bivariate on."
   ]
  },
  {
   "cell_type": "markdown",
   "id": "3eea42d6",
   "metadata": {},
   "source": [
    "#### Observation:\n",
    "- If the amount funded to the individual increases, charged-off percent increases\n",
    "- Likewise, fully_paid percentage drops."
   ]
  },
  {
   "cell_type": "markdown",
   "id": "38cb8b69",
   "metadata": {},
   "source": [
    "### `annual_inc_category` vs `loan_status`"
   ]
  },
  {
   "cell_type": "code",
   "execution_count": 57,
   "id": "08e64bd4",
   "metadata": {},
   "outputs": [
    {
     "name": "stdout",
     "output_type": "stream",
     "text": [
      "loan_status          charged_off %  fully_paid %\n",
      "annual_inc_category                             \n",
      "100000 and above     10.78          89.22       \n",
      "75000-100000         12.19          87.81       \n",
      "50000-75000          14.45          85.55       \n",
      "25000-50000          16.55          83.45       \n",
      "0-25000              19.14          80.86       \n"
     ]
    },
    {
     "data": {
      "image/png": "[encoded data removed]",
      "text/plain": [
       "<Figure size 864x432 with 1 Axes>"
      ]
     },
     "metadata": {
      "needs_background": "light"
     },
     "output_type": "display_data"
    }
   ],
   "source": [
    "plotter(loan_data.annual_inc_category)  #First parameter is variable we perform bivariate on & second is size of graph"
   ]
  },
  {
   "cell_type": "markdown",
   "id": "e0e6d4f2",
   "metadata": {},
   "source": [
    "#### Observation:\n",
    "- The more the income of the applicant the less he is likely to charge-off.\n",
    "- Likewise, less income applicants, relatively, charged-off more."
   ]
  },
  {
   "cell_type": "markdown",
   "id": "e54669ec",
   "metadata": {},
   "source": [
    "### `int_rate_category` vs `loan_status`\n"
   ]
  },
  {
   "cell_type": "code",
   "execution_count": 58,
   "id": "e9499a33",
   "metadata": {},
   "outputs": [
    {
     "name": "stdout",
     "output_type": "stream",
     "text": [
      "loan_status        charged_off %  fully_paid %\n",
      "int_rate_category                             \n",
      "5-10%              6.75           93.25       \n",
      "10-15%             14.89          85.11       \n",
      "15-20%             24.92          75.08       \n",
      "+20%               39.08          60.92       \n"
     ]
    },
    {
     "data": {
      "image/png": "[encoded data removed]",
      "text/plain": [
       "<Figure size 864x432 with 1 Axes>"
      ]
     },
     "metadata": {
      "needs_background": "light"
     },
     "output_type": "display_data"
    }
   ],
   "source": [
    "plotter(loan_data.int_rate_category,(12,6),('rebeccapurple','mediumaquamarine')) "
   ]
  },
  {
   "cell_type": "markdown",
   "id": "08badce5",
   "metadata": {},
   "source": [
    "#### Observation:\n",
    "- Smaller interest rates bring more healthy recovery ratios.\n",
    "- The Higher the interest rate the more the charged-off percentage"
   ]
  },
  {
   "cell_type": "markdown",
   "id": "c45a6145",
   "metadata": {},
   "source": [
    "### `Grade` vs `loan_status`"
   ]
  },
  {
   "cell_type": "code",
   "execution_count": 59,
   "id": "3b4068a4",
   "metadata": {},
   "outputs": [
    {
     "name": "stdout",
     "output_type": "stream",
     "text": [
      "loan_status  charged_off %  fully_paid %\n",
      "grade                                   \n",
      "A            6.02           93.98       \n",
      "B            12.21          87.79       \n",
      "C            17.31          82.69       \n",
      "D            22.12          77.88       \n",
      "E            26.97          73.03       \n",
      "F            32.70          67.30       \n",
      "G            34.26          65.74       \n"
     ]
    },
    {
     "data": {
      "image/png": "[encoded data removed]",
      "text/plain": [
       "<Figure size 792x360 with 1 Axes>"
      ]
     },
     "metadata": {
      "needs_background": "light"
     },
     "output_type": "display_data"
    }
   ],
   "source": [
    "plotter(loan_data.grade,(11,5),('rebeccapurple','mediumaquamarine'))"
   ]
  },
  {
   "cell_type": "markdown",
   "id": "41c6dbd7",
   "metadata": {},
   "source": [
    "#### Observation:\n",
    "The distribution is fair, Considering that grades are given based on the credit_score:\n",
    "- The logic stands here, It is safe to lend to 'A' category applicant.\n",
    "- The charge-off ratio increases as the grade increases from A-B-C-D-E-F-G."
   ]
  },
  {
   "cell_type": "markdown",
   "id": "e4d19f39",
   "metadata": {},
   "source": [
    "### `credit_utilisation_category` vs `loan_status`\n"
   ]
  },
  {
   "cell_type": "code",
   "execution_count": 60,
   "id": "a65f72e2",
   "metadata": {},
   "outputs": [
    {
     "name": "stdout",
     "output_type": "stream",
     "text": [
      "loan_status                  charged_off %  fully_paid %\n",
      "credit_utilisation_category                             \n",
      "0-20%                        9.20           90.80       \n",
      "20-40%                       11.95          88.05       \n",
      "40-60%                       14.84          85.16       \n",
      "60-80%                       16.91          83.09       \n",
      "80-100%                      20.17          79.83       \n"
     ]
    },
    {
     "data": {
      "image/png": "[encoded data removed]",
      "text/plain": [
       "<Figure size 864x432 with 1 Axes>"
      ]
     },
     "metadata": {
      "needs_background": "light"
     },
     "output_type": "display_data"
    }
   ],
   "source": [
    "plotter(loan_data.credit_utilisation_category,(12,6),('cornflowerblue','lightsteelblue')) "
   ]
  },
  {
   "cell_type": "markdown",
   "id": "0225304d",
   "metadata": {},
   "source": [
    "#### Observation:\n",
    "- People who use less credit are safer to disburse money, as they have better repayment ratio.\n",
    "- Higher credit utilised applicants have higher charge-off ratio"
   ]
  },
  {
   "cell_type": "markdown",
   "id": "31d9a847",
   "metadata": {},
   "source": [
    "### `emp_exp_in_years` vs `loan_status`"
   ]
  },
  {
   "cell_type": "code",
   "execution_count": 61,
   "id": "3ec5820c",
   "metadata": {},
   "outputs": [
    {
     "name": "stdout",
     "output_type": "stream",
     "text": [
      "loan_status       charged_off %  fully_paid %\n",
      "emp_exp_in_years                             \n",
      "9                 12.92          87.08       \n",
      "2                 13.22          86.78       \n",
      "3                 13.85          86.15       \n",
      "6                 14.18          85.82       \n",
      "1                 14.30          85.70       \n",
      "8                 14.31          85.69       \n",
      "5                 14.39          85.61       \n",
      "7                 15.44          84.56       \n",
      "4                 15.73          84.27       \n",
      "10                15.75          84.25       \n"
     ]
    },
    {
     "data": {
      "image/png": "[encoded data removed]",
      "text/plain": [
       "<Figure size 1008x432 with 1 Axes>"
      ]
     },
     "metadata": {
      "needs_background": "light"
     },
     "output_type": "display_data"
    }
   ],
   "source": [
    "plotter(loan_data.emp_exp_in_years,(14,6),('cornflowerblue','lightsteelblue'))"
   ]
  },
  {
   "cell_type": "markdown",
   "id": "9bf967e4",
   "metadata": {},
   "source": [
    "#### Observation:\n",
    "- No significant relation between these two variables"
   ]
  },
  {
   "cell_type": "markdown",
   "id": "372644f6",
   "metadata": {},
   "source": [
    "### `purpose` vs `loan_status`"
   ]
  },
  {
   "cell_type": "code",
   "execution_count": 62,
   "id": "b7a936b9",
   "metadata": {},
   "outputs": [
    {
     "name": "stdout",
     "output_type": "stream",
     "text": [
      "loan_status         charged_off %  fully_paid %\n",
      "purpose                                        \n",
      "wedding             10.25          89.75       \n",
      "major_purchase      10.33          89.67       \n",
      "car                 10.73          89.27       \n",
      "credit_card         10.77          89.23       \n",
      "home_improvement    12.08          87.92       \n",
      "vacation            14.13          85.87       \n",
      "debt_consolidation  15.36          84.64       \n",
      "medical             15.73          84.27       \n",
      "moving              15.96          84.04       \n",
      "house               16.25          83.75       \n",
      "other               16.42          83.58       \n",
      "educational         17.03          82.97       \n",
      "renewable_energy    19.00          81.00       \n",
      "small_business      27.39          72.61       \n"
     ]
    },
    {
     "data": {
      "image/png": "[encoded data removed]",
      "text/plain": [
       "<Figure size 1008x432 with 1 Axes>"
      ]
     },
     "metadata": {
      "needs_background": "light"
     },
     "output_type": "display_data"
    }
   ],
   "source": [
    "plotter(loan_data.purpose,(14,6),('salmon','mistyrose'))"
   ]
  },
  {
   "cell_type": "markdown",
   "id": "d390b939",
   "metadata": {},
   "source": [
    "#### Observation:\n",
    "- People who take loan for `small business` charged off more than others.\n",
    "- Wedding, major_purchase, car and credit card purchases has relatively low charge off ratio."
   ]
  },
  {
   "cell_type": "markdown",
   "id": "3b28c833",
   "metadata": {},
   "source": [
    "### `term_in_months` vs `loan_status`"
   ]
  },
  {
   "cell_type": "code",
   "execution_count": 63,
   "id": "dcd875a7",
   "metadata": {},
   "outputs": [
    {
     "name": "stdout",
     "output_type": "stream",
     "text": [
      "loan_status     charged_off %  fully_paid %\n",
      "term_in_months                             \n",
      " 36             11.11          88.89       \n",
      " 60             25.43          74.57       \n"
     ]
    },
    {
     "data": {
      "image/png": "[encoded data removed]",
      "text/plain": [
       "<Figure size 576x288 with 1 Axes>"
      ]
     },
     "metadata": {
      "needs_background": "light"
     },
     "output_type": "display_data"
    }
   ],
   "source": [
    "plotter(loan_data.term_in_months,(8,4),('salmon','mistyrose'))"
   ]
  },
  {
   "cell_type": "markdown",
   "id": "09fee9e0",
   "metadata": {},
   "source": [
    "#### Observation:\n",
    "- Charge off ratio is less if the term period is less i.e upto 36 months.\n",
    "- Charge off ratio increases with increase in term period of the loan.\n",
    "\n",
    "It is possibly because, people who opt for longer periods because there loan amount might be higher,\n",
    "Lets see that in Multivariate analysis."
   ]
  },
  {
   "cell_type": "markdown",
   "id": "3aa7d43b",
   "metadata": {},
   "source": [
    "### `debt_to_income_ratio` vs `loan_status`"
   ]
  },
  {
   "cell_type": "code",
   "execution_count": 64,
   "id": "47b8a7d7",
   "metadata": {},
   "outputs": [
    {
     "name": "stdout",
     "output_type": "stream",
     "text": [
      "loan_status                    charged_off %  fully_paid %\n",
      "debt_to_income_ratio_category                             \n",
      "0-5%                           12.24          87.76       \n",
      "5-10%                          12.86          87.14       \n",
      "10-15%                         14.57          85.43       \n",
      "15-20%                         15.77          84.23       \n",
      "+20%                           16.72          83.28       \n"
     ]
    },
    {
     "data": {
      "image/png": "[encoded data removed]",
      "text/plain": [
       "<Figure size 792x360 with 1 Axes>"
      ]
     },
     "metadata": {
      "needs_background": "light"
     },
     "output_type": "display_data"
    }
   ],
   "source": [
    "plotter(loan_data.debt_to_income_ratio_category,(11,5),('mediumpurple','lavender'))"
   ]
  },
  {
   "cell_type": "markdown",
   "id": "1d4e2f76",
   "metadata": {},
   "source": [
    "#### Observation:\n",
    "- It can be noticed that individuals with low `debt_to_income_ratio` are better at completing payments to bank"
   ]
  },
  {
   "cell_type": "markdown",
   "id": "f18021cb",
   "metadata": {},
   "source": [
    "### `pub_rec_bankruptcies` vs `loan_status`"
   ]
  },
  {
   "cell_type": "code",
   "execution_count": 65,
   "id": "d1b4dfcc",
   "metadata": {},
   "outputs": [
    {
     "name": "stdout",
     "output_type": "stream",
     "text": [
      "loan_status           charged_off %  fully_paid %\n",
      "pub_rec_bankruptcies                             \n",
      "0.0                   14.27          85.73       \n",
      "1.0                   22.35          77.65       \n",
      "2.0                   40.00          60.00       \n"
     ]
    },
    {
     "data": {
      "image/png": "[encoded data removed]",
      "text/plain": [
       "<Figure size 720x288 with 1 Axes>"
      ]
     },
     "metadata": {
      "needs_background": "light"
     },
     "output_type": "display_data"
    }
   ],
   "source": [
    "plotter(loan_data.pub_rec_bankruptcies,(10,4),('mediumpurple','lavender'))"
   ]
  },
  {
   "cell_type": "markdown",
   "id": "4b0efb56",
   "metadata": {},
   "source": [
    "#### Observation:\n",
    "The distribution follows the below logic:\n",
    "- The applicant with 1/1+ public record bankruptcies has high default ratio.\n",
    "- We can infer that applicants with more bankruptcy count have higher probability to charge-off."
   ]
  },
  {
   "cell_type": "code",
   "execution_count": 66,
   "id": "a34be46b",
   "metadata": {},
   "outputs": [],
   "source": [
    "# we did not perform bivariate analysis with rest of the columns because they are not logical in the business point of view.\n",
    "\n",
    "##Like there will be no business relation in the month loan is disbursed and loan status.\n",
    "\n",
    "### With these findings from bivariate analyis, Lets move to Multivariate analysis.\n"
   ]
  },
  {
   "cell_type": "markdown",
   "id": "8c13a8c1",
   "metadata": {},
   "source": [
    "### 5. Multivariate Analysis:\n"
   ]
  },
  {
   "cell_type": "markdown",
   "id": "425bf89a",
   "metadata": {},
   "source": [
    "Multivariate analysis involves analyzing multiple variables (more than two) to identify any possible association among them."
   ]
  },
  {
   "cell_type": "code",
   "execution_count": 67,
   "id": "bd8d13c3",
   "metadata": {
    "scrolled": true
   },
   "outputs": [
    {
     "data": {
      "text/plain": [
       "Index(['loan_amnt', 'funded_amnt_inv', 'term_in_months', 'int_rate', 'grade',\n",
       "       'sub_grade', 'emp_exp_in_years', 'home_ownership', 'annual_inc',\n",
       "       'verification_status', 'loan_status', 'purpose', 'addr_state',\n",
       "       'debt_to_income_ratio', 'credit_utilisation', 'pub_rec_bankruptcies',\n",
       "       'issued_month', 'issued_year'],\n",
       "      dtype='object')"
      ]
     },
     "execution_count": 67,
     "metadata": {},
     "output_type": "execute_result"
    }
   ],
   "source": [
    "safedata.columns #safedata is the deep copy of loan_data which we made earlier before adding category columns."
   ]
  },
  {
   "cell_type": "code",
   "execution_count": 68,
   "id": "6c58793d",
   "metadata": {},
   "outputs": [
    {
     "data": {
      "image/png": "[encoded data removed]",
      "text/plain": [
       "<Figure size 864x720 with 4 Axes>"
      ]
     },
     "metadata": {},
     "output_type": "display_data"
    }
   ],
   "source": [
    "#lets plot a heat map + dendrogram for observing the correlation and observe the heirachical correlations between variables.\n",
    "sns.set(font_scale=1.2) #fontsize\n",
    "sns.clustermap(safedata.corr(),annot=True,figsize=(12, 10),cmap=\"BuPu\") #clustermap gives heatmap+dendrogram\n",
    "plt.show() "
   ]
  },
  {
   "cell_type": "markdown",
   "id": "91e01e7a",
   "metadata": {},
   "source": [
    "#### Observation:"
   ]
  },
  {
   "cell_type": "markdown",
   "id": "aa00fce3",
   "metadata": {},
   "source": [
    "From the Heat map above we can say that:\n",
    "\n",
    "1. [emp_exp_in_years, annual_inc] and\n",
    "\n",
    "2. [debt_to_income_ratio, credit_utilisation, pub_rec_bankruptcies, int_rate] \n",
    "   These two groups have correlation at heirachical scale\n",
    "   Coming to next heirarchy\n",
    "   \n",
    "   The above 1&2 group and\n",
    "   \n",
    "3. Group [funded_amount_inv, installment] have correlation in overall.\n"
   ]
  },
  {
   "cell_type": "code",
   "execution_count": 69,
   "id": "f7ca0fbe",
   "metadata": {},
   "outputs": [],
   "source": [
    "# Lets go ahead and pairplot highly correlated columns."
   ]
  },
  {
   "cell_type": "code",
   "execution_count": null,
   "id": "9d27b5e1",
   "metadata": {},
   "outputs": [],
   "source": [
    "# Creating the pair plot from variables which are important and having corealation.\n",
    "\n",
    "high_cor_cols = loan_data[['loan_amnt' , 'int_rate', 'annual_inc' , 'pub_rec_bankruptcies',\n",
    "                           'debt_to_income_ratio' , 'loan_status']]\n",
    "# lets fill log10 value for loan_amount and annual_inc for better plotting\n",
    "high_cor_cols['loan_amnt'] = np.log10(high_cor_cols['loan_amnt'])\n",
    "high_cor_cols['annual_inc'] = np.log10(high_cor_cols['annual_inc'])\n",
    "#pair plot with loan_status as hue and transparency 1 and size of the markers as 50\n",
    "sns.pairplot(high_cor_cols, hue = 'loan_status', diag_kind = 'kde',plot_kws = {'alpha': 1, 's': 50, 'edgecolor': 'White'},\n",
    "             height = 4)\n",
    "#show the final plot\n",
    "plt.show()"
   ]
  },
  {
   "cell_type": "markdown",
   "id": "eeac58fd",
   "metadata": {},
   "source": [
    "#### Obervation from the pair plotting:\n"
   ]
  },
  {
   "cell_type": "markdown",
   "id": "ece0f2d7",
   "metadata": {},
   "source": [
    "- If interest rate and loan amount are high the charge-off increases and additionally if there is a public bankruptcy record       then the charge is even higher.\n",
    "- If debt-to-income ratio is higher then only people with low interest rates largely paid back the loan whereas\n",
    "  people who are given loan with higher interest rates charged-off more.\n",
    "- Lower annual income people with high interest rates charged off more than higher annual income people."
   ]
  },
  {
   "cell_type": "markdown",
   "id": "85a58874",
   "metadata": {},
   "source": [
    "### Insights from our analysis / Driving factors behind loan default:\n"
   ]
  },
  {
   "cell_type": "markdown",
   "id": "8fc2cd87",
   "metadata": {},
   "source": [
    "Our aim is to identify the driver variables or strong indicators of loan default. Recommendations are provided in presentation file.\n",
    "\n",
    "Here are the key discoveries that supports our objective."
   ]
  },
  {
   "cell_type": "markdown",
   "id": "35fc3518",
   "metadata": {},
   "source": [
    "#### Loan attributes that drive defaulting:\n",
    "    1. Lending with higher interest rates (above 14) is major factor of default.\n",
    "    2. Higher loan amount sanctioned is another variable that drives defaulting.\n",
    "    3. High term period for the loan increases the chance of defaulting.\n",
    "#### Consumer attributes drive defaulting:\n",
    "    1. Purpose of loan is small-business or renewable energy then default percent is around whopping 20%.\n",
    "    2. Public record bankruptcy of the individuals is another factor that is significant, person with 1 record has \n",
    "       default percent of 20 and person with 2 or more records has default percent as high as 40.\n",
    "    3. People with high credit utilisation percent charge off more.\n",
    "    4. F,G grade people tend to default more.\n",
    "    5. Lower income people tend to default more if interest rate is higher.\n",
    "    "
   ]
  }
 ],
 "metadata": {
  "kernelspec": {
   "display_name": "Python 3 (ipykernel)",
   "language": "python",
   "name": "python3"
  },
  "language_info": {
   "codemirror_mode": {
    "name": "ipython",
    "version": 3
   },
   "file_extension": ".py",
   "mimetype": "text/x-python",
   "name": "python",
   "nbconvert_exporter": "python",
   "pygments_lexer": "ipython3",
   "version": "3.9.7"
  }
 },
 "nbformat": 4,
 "nbformat_minor": 5
}
