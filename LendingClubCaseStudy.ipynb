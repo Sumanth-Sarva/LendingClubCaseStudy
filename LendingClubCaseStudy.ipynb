{
 "cells": [
  {
   "cell_type": "markdown",
   "id": "20eefed5",
   "metadata": {},
   "source": [
    "## LendingClubCaseStudy\n",
    "\n",
    "\n",
    "The purpose of this CaseStudy is to understand EDA methods and apply them to understand the attributes that impact the tendency of `LoanDefaults`."
   ]
  },
  {
   "cell_type": "code",
   "execution_count": 105,
   "id": "b4cac03d",
   "metadata": {},
   "outputs": [],
   "source": [
    "#Import the necessary libraries for our DataAnalysis\n",
    "import warnings\n",
    "warnings.filterwarnings(\"ignore\")               #to ignore warning messages while execution   \n",
    "\n",
    "import numpy as np, pandas as pd                #for dataframes,operations    \n",
    "import matplotlib.pyplot as plt, seaborn as sns #for plots\n",
    "from datetime import datetime                   #for time related operations/anlysis\n",
    "\n",
    "pd.set_option('display.max_colwidth', -1)       #to display the entire value of the cell"
   ]
  },
  {
   "cell_type": "markdown",
   "id": "b00fcb8a",
   "metadata": {},
   "source": [
    "### 1. DataSourcing"
   ]
  },
  {
   "cell_type": "code",
   "execution_count": 149,
   "id": "85078312",
   "metadata": {},
   "outputs": [],
   "source": [
    "#Data is already provided, importing the data to DataFrame, Since it is big file with various DataTypes set low_memory=False\n",
    "loan_data=pd.read_csv(r'C:\\Users\\Sumanth Sarva\\Documents\\IIITB\\LendingClub\\loan\\loan.csv',low_memory=False)"
   ]
  },
  {
   "cell_type": "code",
   "execution_count": 150,
   "id": "0d785e80",
   "metadata": {},
   "outputs": [
    {
     "data": {
      "text/plain": [
       "(39717, 111)"
      ]
     },
     "execution_count": 150,
     "metadata": {},
     "output_type": "execute_result"
    }
   ],
   "source": [
    "#DataFrame shape\n",
    "loan_data.shape"
   ]
  },
  {
   "cell_type": "markdown",
   "id": "390ed1f8",
   "metadata": {},
   "source": [
    "### 2. DataCleaning"
   ]
  },
  {
   "cell_type": "code",
   "execution_count": 151,
   "id": "660e9b41",
   "metadata": {},
   "outputs": [
    {
     "data": {
      "text/plain": [
       "['id',\n",
       " 'member_id',\n",
       " 'loan_amnt',\n",
       " 'funded_amnt',\n",
       " 'funded_amnt_inv',\n",
       " 'term',\n",
       " 'int_rate',\n",
       " 'installment',\n",
       " 'grade',\n",
       " 'sub_grade',\n",
       " 'emp_title',\n",
       " 'emp_length',\n",
       " 'home_ownership',\n",
       " 'annual_inc',\n",
       " 'verification_status',\n",
       " 'issue_d',\n",
       " 'loan_status',\n",
       " 'pymnt_plan',\n",
       " 'url',\n",
       " 'desc',\n",
       " 'purpose',\n",
       " 'title',\n",
       " 'zip_code',\n",
       " 'addr_state',\n",
       " 'dti',\n",
       " 'delinq_2yrs',\n",
       " 'earliest_cr_line',\n",
       " 'inq_last_6mths',\n",
       " 'mths_since_last_delinq',\n",
       " 'mths_since_last_record',\n",
       " 'open_acc',\n",
       " 'pub_rec',\n",
       " 'revol_bal',\n",
       " 'revol_util',\n",
       " 'total_acc',\n",
       " 'initial_list_status',\n",
       " 'out_prncp',\n",
       " 'out_prncp_inv',\n",
       " 'total_pymnt',\n",
       " 'total_pymnt_inv',\n",
       " 'total_rec_prncp',\n",
       " 'total_rec_int',\n",
       " 'total_rec_late_fee',\n",
       " 'recoveries',\n",
       " 'collection_recovery_fee',\n",
       " 'last_pymnt_d',\n",
       " 'last_pymnt_amnt',\n",
       " 'next_pymnt_d',\n",
       " 'last_credit_pull_d',\n",
       " 'collections_12_mths_ex_med',\n",
       " 'mths_since_last_major_derog',\n",
       " 'policy_code',\n",
       " 'application_type',\n",
       " 'annual_inc_joint',\n",
       " 'dti_joint',\n",
       " 'verification_status_joint',\n",
       " 'acc_now_delinq',\n",
       " 'tot_coll_amt',\n",
       " 'tot_cur_bal',\n",
       " 'open_acc_6m',\n",
       " 'open_il_6m',\n",
       " 'open_il_12m',\n",
       " 'open_il_24m',\n",
       " 'mths_since_rcnt_il',\n",
       " 'total_bal_il',\n",
       " 'il_util',\n",
       " 'open_rv_12m',\n",
       " 'open_rv_24m',\n",
       " 'max_bal_bc',\n",
       " 'all_util',\n",
       " 'total_rev_hi_lim',\n",
       " 'inq_fi',\n",
       " 'total_cu_tl',\n",
       " 'inq_last_12m',\n",
       " 'acc_open_past_24mths',\n",
       " 'avg_cur_bal',\n",
       " 'bc_open_to_buy',\n",
       " 'bc_util',\n",
       " 'chargeoff_within_12_mths',\n",
       " 'delinq_amnt',\n",
       " 'mo_sin_old_il_acct',\n",
       " 'mo_sin_old_rev_tl_op',\n",
       " 'mo_sin_rcnt_rev_tl_op',\n",
       " 'mo_sin_rcnt_tl',\n",
       " 'mort_acc',\n",
       " 'mths_since_recent_bc',\n",
       " 'mths_since_recent_bc_dlq',\n",
       " 'mths_since_recent_inq',\n",
       " 'mths_since_recent_revol_delinq',\n",
       " 'num_accts_ever_120_pd',\n",
       " 'num_actv_bc_tl',\n",
       " 'num_actv_rev_tl',\n",
       " 'num_bc_sats',\n",
       " 'num_bc_tl',\n",
       " 'num_il_tl',\n",
       " 'num_op_rev_tl',\n",
       " 'num_rev_accts',\n",
       " 'num_rev_tl_bal_gt_0',\n",
       " 'num_sats',\n",
       " 'num_tl_120dpd_2m',\n",
       " 'num_tl_30dpd',\n",
       " 'num_tl_90g_dpd_24m',\n",
       " 'num_tl_op_past_12m',\n",
       " 'pct_tl_nvr_dlq',\n",
       " 'percent_bc_gt_75',\n",
       " 'pub_rec_bankruptcies',\n",
       " 'tax_liens',\n",
       " 'tot_hi_cred_lim',\n",
       " 'total_bal_ex_mort',\n",
       " 'total_bc_limit',\n",
       " 'total_il_high_credit_limit']"
      ]
     },
     "execution_count": 151,
     "metadata": {},
     "output_type": "execute_result"
    }
   ],
   "source": [
    "list(loan_data.columns.values) #listing the column names"
   ]
  },
  {
   "cell_type": "code",
   "execution_count": 152,
   "id": "ac0ad4a1",
   "metadata": {},
   "outputs": [
    {
     "data": {
      "text/plain": [
       "Index(['mths_since_last_major_derog', 'annual_inc_joint', 'dti_joint',\n",
       "       'verification_status_joint', 'tot_coll_amt', 'tot_cur_bal',\n",
       "       'open_acc_6m', 'open_il_6m', 'open_il_12m', 'open_il_24m',\n",
       "       'mths_since_rcnt_il', 'total_bal_il', 'il_util', 'open_rv_12m',\n",
       "       'open_rv_24m', 'max_bal_bc', 'all_util', 'total_rev_hi_lim', 'inq_fi',\n",
       "       'total_cu_tl', 'inq_last_12m', 'acc_open_past_24mths', 'avg_cur_bal',\n",
       "       'bc_open_to_buy', 'bc_util', 'mo_sin_old_il_acct',\n",
       "       'mo_sin_old_rev_tl_op', 'mo_sin_rcnt_rev_tl_op', 'mo_sin_rcnt_tl',\n",
       "       'mort_acc', 'mths_since_recent_bc', 'mths_since_recent_bc_dlq',\n",
       "       'mths_since_recent_inq', 'mths_since_recent_revol_delinq',\n",
       "       'num_accts_ever_120_pd', 'num_actv_bc_tl', 'num_actv_rev_tl',\n",
       "       'num_bc_sats', 'num_bc_tl', 'num_il_tl', 'num_op_rev_tl',\n",
       "       'num_rev_accts', 'num_rev_tl_bal_gt_0', 'num_sats', 'num_tl_120dpd_2m',\n",
       "       'num_tl_30dpd', 'num_tl_90g_dpd_24m', 'num_tl_op_past_12m',\n",
       "       'pct_tl_nvr_dlq', 'percent_bc_gt_75', 'tot_hi_cred_lim',\n",
       "       'total_bal_ex_mort', 'total_bc_limit', 'total_il_high_credit_limit'],\n",
       "      dtype='object')"
      ]
     },
     "execution_count": 152,
     "metadata": {},
     "output_type": "execute_result"
    }
   ],
   "source": [
    "# There are many columns let's see if there are empty columns\n",
    "loan_data.columns[loan_data.isnull().all()]"
   ]
  },
  {
   "cell_type": "markdown",
   "id": "686c8888",
   "metadata": {},
   "source": [
    "#### 2.1 Dropping empty columns"
   ]
  },
  {
   "cell_type": "code",
   "execution_count": 153,
   "id": "248d6898",
   "metadata": {},
   "outputs": [
    {
     "data": {
      "text/plain": [
       "(39717, 57)"
      ]
     },
     "execution_count": 153,
     "metadata": {},
     "output_type": "execute_result"
    }
   ],
   "source": [
    "#dropping all the empty columns\n",
    "loan_data.dropna(how='all',axis = 1 , inplace = True)\n",
    "\n",
    "#table shape after dropping\n",
    "loan_data.shape\n"
   ]
  },
  {
   "cell_type": "code",
   "execution_count": 154,
   "id": "a104f13c",
   "metadata": {},
   "outputs": [
    {
     "data": {
      "text/plain": [
       "next_pymnt_d                  97.0\n",
       "mths_since_last_record        93.0\n",
       "mths_since_last_delinq        65.0\n",
       "desc                          33.0\n",
       "emp_title                     6.0 \n",
       "emp_length                    3.0 \n",
       "pub_rec_bankruptcies          2.0 \n",
       "last_pymnt_d                  0.0 \n",
       "chargeoff_within_12_mths      0.0 \n",
       "collections_12_mths_ex_med    0.0 \n",
       "dtype: float64"
      ]
     },
     "execution_count": 154,
     "metadata": {},
     "output_type": "execute_result"
    }
   ],
   "source": [
    "#lets the see percentage of missing values in the remaining columns, sorted and listed by top 10\n",
    "round( (loan_data.isnull().sum()/len(loan_data) * 100).sort_values(ascending=False),0).head(10)\n"
   ]
  },
  {
   "cell_type": "markdown",
   "id": "a057f6aa",
   "metadata": {},
   "source": [
    "#### 2.2 Dropping columns with more percentage of missing values"
   ]
  },
  {
   "cell_type": "code",
   "execution_count": 155,
   "id": "d6a02d81",
   "metadata": {},
   "outputs": [],
   "source": [
    "#lets drop the top 3 columns as they are not using considering the number of missing values.\n",
    "loan_data.drop([\"next_pymnt_d\", \"mths_since_last_record\", \"mths_since_last_delinq\"],axis=1,inplace=True)"
   ]
  },
  {
   "cell_type": "code",
   "execution_count": 156,
   "id": "fb4b508e",
   "metadata": {},
   "outputs": [
    {
     "data": {
      "text/plain": [
       "Index(['id', 'member_id', 'loan_amnt', 'funded_amnt', 'funded_amnt_inv',\n",
       "       'term', 'int_rate', 'installment', 'grade', 'sub_grade', 'emp_title',\n",
       "       'emp_length', 'home_ownership', 'annual_inc', 'verification_status',\n",
       "       'issue_d', 'loan_status', 'pymnt_plan', 'url', 'desc', 'purpose',\n",
       "       'title', 'zip_code', 'addr_state', 'dti', 'delinq_2yrs',\n",
       "       'earliest_cr_line', 'inq_last_6mths', 'open_acc', 'pub_rec',\n",
       "       'revol_bal', 'revol_util', 'total_acc', 'initial_list_status',\n",
       "       'out_prncp', 'out_prncp_inv', 'total_pymnt', 'total_pymnt_inv',\n",
       "       'total_rec_prncp', 'total_rec_int', 'total_rec_late_fee', 'recoveries',\n",
       "       'collection_recovery_fee', 'last_pymnt_d', 'last_pymnt_amnt',\n",
       "       'last_credit_pull_d', 'collections_12_mths_ex_med', 'policy_code',\n",
       "       'application_type', 'acc_now_delinq', 'chargeoff_within_12_mths',\n",
       "       'delinq_amnt', 'pub_rec_bankruptcies', 'tax_liens'],\n",
       "      dtype='object')"
      ]
     },
     "execution_count": 156,
     "metadata": {},
     "output_type": "execute_result"
    }
   ],
   "source": [
    "#Listing the remaining column names\n",
    "loan_data.columns"
   ]
  },
  {
   "cell_type": "markdown",
   "id": "8587c612",
   "metadata": {},
   "source": [
    "#### 2.3 Dropping columns which have only `One Value` "
   ]
  },
  {
   "cell_type": "code",
   "execution_count": 157,
   "id": "ecd03c18",
   "metadata": {},
   "outputs": [
    {
     "name": "stdout",
     "output_type": "stream",
     "text": [
      "id                            39717\n",
      "member_id                     39717\n",
      "loan_amnt                     885  \n",
      "funded_amnt                   1041 \n",
      "funded_amnt_inv               8205 \n",
      "term                          2    \n",
      "int_rate                      371  \n",
      "installment                   15383\n",
      "grade                         7    \n",
      "sub_grade                     35   \n",
      "emp_title                     28820\n",
      "emp_length                    11   \n",
      "home_ownership                5    \n",
      "annual_inc                    5318 \n",
      "verification_status           3    \n",
      "issue_d                       55   \n",
      "loan_status                   3    \n",
      "pymnt_plan                    1    \n",
      "url                           39717\n",
      "desc                          26527\n",
      "purpose                       14   \n",
      "title                         19615\n",
      "zip_code                      823  \n",
      "addr_state                    50   \n",
      "dti                           2868 \n",
      "delinq_2yrs                   11   \n",
      "earliest_cr_line              526  \n",
      "inq_last_6mths                9    \n",
      "open_acc                      40   \n",
      "pub_rec                       5    \n",
      "revol_bal                     21711\n",
      "revol_util                    1089 \n",
      "total_acc                     82   \n",
      "initial_list_status           1    \n",
      "out_prncp                     1137 \n",
      "out_prncp_inv                 1138 \n",
      "total_pymnt                   37850\n",
      "total_pymnt_inv               37518\n",
      "total_rec_prncp               7976 \n",
      "total_rec_int                 35148\n",
      "total_rec_late_fee            1356 \n",
      "recoveries                    4040 \n",
      "collection_recovery_fee       2616 \n",
      "last_pymnt_d                  101  \n",
      "last_pymnt_amnt               34930\n",
      "last_credit_pull_d            106  \n",
      "collections_12_mths_ex_med    1    \n",
      "policy_code                   1    \n",
      "application_type              1    \n",
      "acc_now_delinq                1    \n",
      "chargeoff_within_12_mths      1    \n",
      "delinq_amnt                   1    \n",
      "pub_rec_bankruptcies          3    \n",
      "tax_liens                     1    \n",
      "dtype: int64\n",
      "(39717, 54)\n"
     ]
    }
   ],
   "source": [
    "print(loan_data.nunique())\n",
    "print(loan_data.shape)"
   ]
  },
  {
   "cell_type": "code",
   "execution_count": 158,
   "id": "1fcb22e3",
   "metadata": {},
   "outputs": [],
   "source": [
    "#dropping columns with only one unique value\n",
    "\n",
    "to_drop  = loan_data.nunique()                            #stroring all columns unique count to to_drop \n",
    "to_drop  = to_drop.loc[to_drop.values==1].index           #getting column indices where unique count is 1\n",
    "loan_data.drop(to_drop, inplace=True, axis=1)             #dropping columns in the list to_drop\n"
   ]
  },
  {
   "cell_type": "code",
   "execution_count": 159,
   "id": "2346782d",
   "metadata": {},
   "outputs": [
    {
     "data": {
      "text/plain": [
       "(39717, 45)"
      ]
     },
     "execution_count": 159,
     "metadata": {},
     "output_type": "execute_result"
    }
   ],
   "source": [
    "loan_data.shape"
   ]
  },
  {
   "cell_type": "markdown",
   "id": "37347c2f",
   "metadata": {},
   "source": [
    "#### 2.4 Dropping columns that are `text/descriptions`"
   ]
  },
  {
   "cell_type": "markdown",
   "id": "8fc72483",
   "metadata": {},
   "source": [
    "##### Lets observe `url` and `id` columns"
   ]
  },
  {
   "cell_type": "code",
   "execution_count": 160,
   "id": "31ef410e",
   "metadata": {},
   "outputs": [
    {
     "data": {
      "text/html": [
       "<div>\n",
       "<style scoped>\n",
       "    .dataframe tbody tr th:only-of-type {\n",
       "        vertical-align: middle;\n",
       "    }\n",
       "\n",
       "    .dataframe tbody tr th {\n",
       "        vertical-align: top;\n",
       "    }\n",
       "\n",
       "    .dataframe thead th {\n",
       "        text-align: right;\n",
       "    }\n",
       "</style>\n",
       "<table border=\"1\" class=\"dataframe\">\n",
       "  <thead>\n",
       "    <tr style=\"text-align: right;\">\n",
       "      <th></th>\n",
       "      <th>id</th>\n",
       "      <th>url</th>\n",
       "    </tr>\n",
       "  </thead>\n",
       "  <tbody>\n",
       "    <tr>\n",
       "      <th>1</th>\n",
       "      <td>1077430</td>\n",
       "      <td>https://lendingclub.com/browse/loanDetail.action?loan_id=1077430</td>\n",
       "    </tr>\n",
       "    <tr>\n",
       "      <th>2</th>\n",
       "      <td>1077175</td>\n",
       "      <td>https://lendingclub.com/browse/loanDetail.action?loan_id=1077175</td>\n",
       "    </tr>\n",
       "    <tr>\n",
       "      <th>3</th>\n",
       "      <td>1076863</td>\n",
       "      <td>https://lendingclub.com/browse/loanDetail.action?loan_id=1076863</td>\n",
       "    </tr>\n",
       "    <tr>\n",
       "      <th>4</th>\n",
       "      <td>1075358</td>\n",
       "      <td>https://lendingclub.com/browse/loanDetail.action?loan_id=1075358</td>\n",
       "    </tr>\n",
       "    <tr>\n",
       "      <th>5</th>\n",
       "      <td>1075269</td>\n",
       "      <td>https://lendingclub.com/browse/loanDetail.action?loan_id=1075269</td>\n",
       "    </tr>\n",
       "  </tbody>\n",
       "</table>\n",
       "</div>"
      ],
      "text/plain": [
       "        id                                                               url\n",
       "1  1077430  https://lendingclub.com/browse/loanDetail.action?loan_id=1077430\n",
       "2  1077175  https://lendingclub.com/browse/loanDetail.action?loan_id=1077175\n",
       "3  1076863  https://lendingclub.com/browse/loanDetail.action?loan_id=1076863\n",
       "4  1075358  https://lendingclub.com/browse/loanDetail.action?loan_id=1075358\n",
       "5  1075269  https://lendingclub.com/browse/loanDetail.action?loan_id=1075269"
      ]
     },
     "execution_count": 160,
     "metadata": {},
     "output_type": "execute_result"
    }
   ],
   "source": [
    "loan_data.loc[[1,2,3,4,5],['id','url']]"
   ]
  },
  {
   "cell_type": "markdown",
   "id": "7b02a05e",
   "metadata": {},
   "source": [
    "Here we can conclude that either `url` or `id` column is sufficient.\n",
    "Because the url column is concatenation of \"https://lendingclub.com/browse/loanDetail.action?loan_id\" and \"id\" \n",
    "\n",
    "so let's drop url column."
   ]
  },
  {
   "cell_type": "code",
   "execution_count": 161,
   "id": "2de7a2f4",
   "metadata": {},
   "outputs": [],
   "source": [
    "loan_data.drop('url', inplace =True, axis=1)    #dropping url column "
   ]
  },
  {
   "cell_type": "markdown",
   "id": "96450830",
   "metadata": {},
   "source": [
    "#### 2.5  We can drop other columns that are not useful for our analysis \n",
    "   `member_id` we already have `id` column which is unique, we dont need both\n",
    "\n",
    "   `desc`      Irrelevant for our analysis\\n\n",
    "\n",
    "   `emp_title` Not required\n",
    "\n",
    "   Let's go on and drop other `Costumer_Behavioural & Paymnet` columns that dont contribute to analysis\n"
   ]
  },
  {
   "cell_type": "code",
   "execution_count": 162,
   "id": "250699e9",
   "metadata": {},
   "outputs": [],
   "source": [
    "#dropping all unnecessary columns\n",
    "loan_data.drop(['revol_bal','out_prncp','out_prncp_inv','total_pymnt','total_pymnt_inv','total_rec_prncp',\n",
    "       'total_rec_int', 'total_rec_late_fee', 'recoveries',\n",
    "       'collection_recovery_fee', 'last_pymnt_d', 'last_pymnt_amnt', 'last_credit_pull_d', \n",
    "        'pub_rec_bankruptcies','member_id','desc','funded_amnt','zip_code','delinq_2yrs',\n",
    "      'emp_title','title'],inplace=True, axis=1)"
   ]
  },
  {
   "cell_type": "code",
   "execution_count": 163,
   "id": "47f999c6",
   "metadata": {
    "scrolled": true
   },
   "outputs": [
    {
     "data": {
      "text/plain": [
       "(39717, 23)"
      ]
     },
     "execution_count": 163,
     "metadata": {},
     "output_type": "execute_result"
    }
   ],
   "source": [
    "loan_data.shape"
   ]
  },
  {
   "cell_type": "markdown",
   "id": "939c4c12",
   "metadata": {},
   "source": [
    "#### Columns left in our Loan Table"
   ]
  },
  {
   "cell_type": "code",
   "execution_count": 164,
   "id": "5b9aa4ec",
   "metadata": {},
   "outputs": [
    {
     "data": {
      "text/plain": [
       "Index(['id', 'loan_amnt', 'funded_amnt_inv', 'term', 'int_rate', 'installment',\n",
       "       'grade', 'sub_grade', 'emp_length', 'home_ownership', 'annual_inc',\n",
       "       'verification_status', 'issue_d', 'loan_status', 'purpose',\n",
       "       'addr_state', 'dti', 'earliest_cr_line', 'inq_last_6mths', 'open_acc',\n",
       "       'pub_rec', 'revol_util', 'total_acc'],\n",
       "      dtype='object')"
      ]
     },
     "execution_count": 164,
     "metadata": {},
     "output_type": "execute_result"
    }
   ],
   "source": [
    "loan_data.columns"
   ]
  },
  {
   "cell_type": "markdown",
   "id": "f061fbc6",
   "metadata": {},
   "source": [
    "### 2.6 Fix rows"
   ]
  },
  {
   "cell_type": "code",
   "execution_count": null,
   "id": "0c10fa62",
   "metadata": {},
   "outputs": [],
   "source": []
  }
 ],
 "metadata": {
  "kernelspec": {
   "display_name": "Python 3 (ipykernel)",
   "language": "python",
   "name": "python3"
  },
  "language_info": {
   "codemirror_mode": {
    "name": "ipython",
    "version": 3
   },
   "file_extension": ".py",
   "mimetype": "text/x-python",
   "name": "python",
   "nbconvert_exporter": "python",
   "pygments_lexer": "ipython3",
   "version": "3.9.7"
  }
 },
 "nbformat": 4,
 "nbformat_minor": 5
}
