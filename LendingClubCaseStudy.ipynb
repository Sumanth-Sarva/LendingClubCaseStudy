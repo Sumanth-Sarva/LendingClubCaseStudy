{
 "cells": [
  {
   "cell_type": "markdown",
   "id": "20eefed5",
   "metadata": {},
   "source": [
    "## LendingClubCaseStudy\n",
    "\n",
    "\n",
    "The purpose of this CaseStudy is to understand EDA methods and apply them to understand the attributes that impact the tendency of `LoanDefaults`."
   ]
  },
  {
   "cell_type": "code",
   "execution_count": 2,
   "id": "b4cac03d",
   "metadata": {},
   "outputs": [],
   "source": [
    "#Import the necessary libraries for our DataAnalysis\n",
    "import numpy as np, pandas as pd                #for dataframes,operations    \n",
    "import matplotlib.pyplot as plt, seaborn as sns #for plots\n",
    "from datetime import datetime                   #for time related operations/anlysis\n"
   ]
  },
  {
   "cell_type": "markdown",
   "id": "b00fcb8a",
   "metadata": {},
   "source": [
    "### 1.DataSourcing"
   ]
  },
  {
   "cell_type": "code",
   "execution_count": 9,
   "id": "85078312",
   "metadata": {},
   "outputs": [],
   "source": [
    "#Data is already provided, importing the data to DataFrame, Since it is big file with various DataTypes set low_memory=False\n",
    "loan_data=pd.read_csv(r'C:\\Users\\Sumanth Sarva\\Documents\\IIITB\\LendingClub\\loan\\loan.csv',low_memory=False)"
   ]
  },
  {
   "cell_type": "code",
   "execution_count": 11,
   "id": "0d785e80",
   "metadata": {},
   "outputs": [
    {
     "data": {
      "text/plain": [
       "(39717, 111)"
      ]
     },
     "execution_count": 11,
     "metadata": {},
     "output_type": "execute_result"
    }
   ],
   "source": [
    "#DataFrame shape\n",
    "loan_data.shape"
   ]
  },
  {
   "cell_type": "code",
   "execution_count": null,
   "id": "3dfb909d",
   "metadata": {},
   "outputs": [],
   "source": []
  }
 ],
 "metadata": {
  "kernelspec": {
   "display_name": "Python 3 (ipykernel)",
   "language": "python",
   "name": "python3"
  },
  "language_info": {
   "codemirror_mode": {
    "name": "ipython",
    "version": 3
   },
   "file_extension": ".py",
   "mimetype": "text/x-python",
   "name": "python",
   "nbconvert_exporter": "python",
   "pygments_lexer": "ipython3",
   "version": "3.9.7"
  }
 },
 "nbformat": 4,
 "nbformat_minor": 5
}
