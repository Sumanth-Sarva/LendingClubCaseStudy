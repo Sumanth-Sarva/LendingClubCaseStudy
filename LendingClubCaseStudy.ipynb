{
 "cells": [
  {
   "cell_type": "markdown",
   "id": "20eefed5",
   "metadata": {},
   "source": [
    "## LendingClubCaseStudy\n",
    "\n",
    "\n",
    "The purpose of this CaseStudy is to understand EDA methods and apply them to understand the attributes that impact the tendency of `LoanDefaults`."
   ]
  },
  {
   "cell_type": "code",
   "execution_count": 201,
   "id": "b4cac03d",
   "metadata": {},
   "outputs": [],
   "source": [
    "#Import the necessary libraries for our DataAnalysis\n",
    "import warnings\n",
    "warnings.filterwarnings(\"ignore\")               #to ignore warning messages while execution   \n",
    "\n",
    "import numpy as np, pandas as pd                #for dataframes,operations    \n",
    "import matplotlib.pyplot as plt, seaborn as sns #for plots\n",
    "from datetime import datetime                   #for time related operations/anlysis\n",
    "\n",
    "pd.set_option('display.max_colwidth', -1)       #to display the entire value of the cell"
   ]
  },
  {
   "cell_type": "markdown",
   "id": "b00fcb8a",
   "metadata": {},
   "source": [
    "### 1. DataSourcing"
   ]
  },
  {
   "cell_type": "code",
   "execution_count": 202,
   "id": "85078312",
   "metadata": {},
   "outputs": [],
   "source": [
    "#Data is already provided, importing the data to DataFrame, Since it is big file with various DataTypes set low_memory=False\n",
    "loan_data=pd.read_csv(r'C:\\Users\\Sumanth Sarva\\Documents\\IIITB\\LendingClub\\loan\\loan.csv',low_memory=False)"
   ]
  },
  {
   "cell_type": "code",
   "execution_count": 203,
   "id": "0d785e80",
   "metadata": {},
   "outputs": [
    {
     "data": {
      "text/plain": [
       "(39717, 111)"
      ]
     },
     "execution_count": 203,
     "metadata": {},
     "output_type": "execute_result"
    }
   ],
   "source": [
    "#DataFrame shape\n",
    "loan_data.shape"
   ]
  },
  {
   "cell_type": "markdown",
   "id": "03aa400e",
   "metadata": {},
   "source": [
    "### 2. DataCleaning"
   ]
  },
  {
   "cell_type": "code",
   "execution_count": 204,
   "id": "66f9def8",
   "metadata": {},
   "outputs": [
    {
     "data": {
      "text/plain": [
       "['id',\n",
       " 'member_id',\n",
       " 'loan_amnt',\n",
       " 'funded_amnt',\n",
       " 'funded_amnt_inv',\n",
       " 'term',\n",
       " 'int_rate',\n",
       " 'installment',\n",
       " 'grade',\n",
       " 'sub_grade',\n",
       " 'emp_title',\n",
       " 'emp_length',\n",
       " 'home_ownership',\n",
       " 'annual_inc',\n",
       " 'verification_status',\n",
       " 'issue_d',\n",
       " 'loan_status',\n",
       " 'pymnt_plan',\n",
       " 'url',\n",
       " 'desc',\n",
       " 'purpose',\n",
       " 'title',\n",
       " 'zip_code',\n",
       " 'addr_state',\n",
       " 'dti',\n",
       " 'delinq_2yrs',\n",
       " 'earliest_cr_line',\n",
       " 'inq_last_6mths',\n",
       " 'mths_since_last_delinq',\n",
       " 'mths_since_last_record',\n",
       " 'open_acc',\n",
       " 'pub_rec',\n",
       " 'revol_bal',\n",
       " 'revol_util',\n",
       " 'total_acc',\n",
       " 'initial_list_status',\n",
       " 'out_prncp',\n",
       " 'out_prncp_inv',\n",
       " 'total_pymnt',\n",
       " 'total_pymnt_inv',\n",
       " 'total_rec_prncp',\n",
       " 'total_rec_int',\n",
       " 'total_rec_late_fee',\n",
       " 'recoveries',\n",
       " 'collection_recovery_fee',\n",
       " 'last_pymnt_d',\n",
       " 'last_pymnt_amnt',\n",
       " 'next_pymnt_d',\n",
       " 'last_credit_pull_d',\n",
       " 'collections_12_mths_ex_med',\n",
       " 'mths_since_last_major_derog',\n",
       " 'policy_code',\n",
       " 'application_type',\n",
       " 'annual_inc_joint',\n",
       " 'dti_joint',\n",
       " 'verification_status_joint',\n",
       " 'acc_now_delinq',\n",
       " 'tot_coll_amt',\n",
       " 'tot_cur_bal',\n",
       " 'open_acc_6m',\n",
       " 'open_il_6m',\n",
       " 'open_il_12m',\n",
       " 'open_il_24m',\n",
       " 'mths_since_rcnt_il',\n",
       " 'total_bal_il',\n",
       " 'il_util',\n",
       " 'open_rv_12m',\n",
       " 'open_rv_24m',\n",
       " 'max_bal_bc',\n",
       " 'all_util',\n",
       " 'total_rev_hi_lim',\n",
       " 'inq_fi',\n",
       " 'total_cu_tl',\n",
       " 'inq_last_12m',\n",
       " 'acc_open_past_24mths',\n",
       " 'avg_cur_bal',\n",
       " 'bc_open_to_buy',\n",
       " 'bc_util',\n",
       " 'chargeoff_within_12_mths',\n",
       " 'delinq_amnt',\n",
       " 'mo_sin_old_il_acct',\n",
       " 'mo_sin_old_rev_tl_op',\n",
       " 'mo_sin_rcnt_rev_tl_op',\n",
       " 'mo_sin_rcnt_tl',\n",
       " 'mort_acc',\n",
       " 'mths_since_recent_bc',\n",
       " 'mths_since_recent_bc_dlq',\n",
       " 'mths_since_recent_inq',\n",
       " 'mths_since_recent_revol_delinq',\n",
       " 'num_accts_ever_120_pd',\n",
       " 'num_actv_bc_tl',\n",
       " 'num_actv_rev_tl',\n",
       " 'num_bc_sats',\n",
       " 'num_bc_tl',\n",
       " 'num_il_tl',\n",
       " 'num_op_rev_tl',\n",
       " 'num_rev_accts',\n",
       " 'num_rev_tl_bal_gt_0',\n",
       " 'num_sats',\n",
       " 'num_tl_120dpd_2m',\n",
       " 'num_tl_30dpd',\n",
       " 'num_tl_90g_dpd_24m',\n",
       " 'num_tl_op_past_12m',\n",
       " 'pct_tl_nvr_dlq',\n",
       " 'percent_bc_gt_75',\n",
       " 'pub_rec_bankruptcies',\n",
       " 'tax_liens',\n",
       " 'tot_hi_cred_lim',\n",
       " 'total_bal_ex_mort',\n",
       " 'total_bc_limit',\n",
       " 'total_il_high_credit_limit']"
      ]
     },
     "execution_count": 204,
     "metadata": {},
     "output_type": "execute_result"
    }
   ],
   "source": [
    "list(loan_data.columns.values) #listing the column names"
   ]
  },
  {
   "cell_type": "code",
   "execution_count": 205,
   "id": "1ad5bf8a",
   "metadata": {},
   "outputs": [
    {
     "data": {
      "text/plain": [
       "Index(['mths_since_last_major_derog', 'annual_inc_joint', 'dti_joint',\n",
       "       'verification_status_joint', 'tot_coll_amt', 'tot_cur_bal',\n",
       "       'open_acc_6m', 'open_il_6m', 'open_il_12m', 'open_il_24m',\n",
       "       'mths_since_rcnt_il', 'total_bal_il', 'il_util', 'open_rv_12m',\n",
       "       'open_rv_24m', 'max_bal_bc', 'all_util', 'total_rev_hi_lim', 'inq_fi',\n",
       "       'total_cu_tl', 'inq_last_12m', 'acc_open_past_24mths', 'avg_cur_bal',\n",
       "       'bc_open_to_buy', 'bc_util', 'mo_sin_old_il_acct',\n",
       "       'mo_sin_old_rev_tl_op', 'mo_sin_rcnt_rev_tl_op', 'mo_sin_rcnt_tl',\n",
       "       'mort_acc', 'mths_since_recent_bc', 'mths_since_recent_bc_dlq',\n",
       "       'mths_since_recent_inq', 'mths_since_recent_revol_delinq',\n",
       "       'num_accts_ever_120_pd', 'num_actv_bc_tl', 'num_actv_rev_tl',\n",
       "       'num_bc_sats', 'num_bc_tl', 'num_il_tl', 'num_op_rev_tl',\n",
       "       'num_rev_accts', 'num_rev_tl_bal_gt_0', 'num_sats', 'num_tl_120dpd_2m',\n",
       "       'num_tl_30dpd', 'num_tl_90g_dpd_24m', 'num_tl_op_past_12m',\n",
       "       'pct_tl_nvr_dlq', 'percent_bc_gt_75', 'tot_hi_cred_lim',\n",
       "       'total_bal_ex_mort', 'total_bc_limit', 'total_il_high_credit_limit'],\n",
       "      dtype='object')"
      ]
     },
     "execution_count": 205,
     "metadata": {},
     "output_type": "execute_result"
    }
   ],
   "source": [
    "# There are many columns let's see if there are empty columns\n",
    "loan_data.columns[loan_data.isnull().all()]"
   ]
  },
  {
   "cell_type": "markdown",
   "id": "78d87530",
   "metadata": {},
   "source": [
    "#### 2.1.1 Dropping empty columns"
   ]
  },
  {
   "cell_type": "code",
   "execution_count": 206,
   "id": "9ca7b02d",
   "metadata": {},
   "outputs": [
    {
     "data": {
      "text/plain": [
       "(39717, 57)"
      ]
     },
     "execution_count": 206,
     "metadata": {},
     "output_type": "execute_result"
    }
   ],
   "source": [
    "#dropping all the empty columns\n",
    "loan_data.dropna(how='all',axis = 1 , inplace = True)\n",
    "\n",
    "#table shape after dropping\n",
    "loan_data.shape\n"
   ]
  },
  {
   "cell_type": "code",
   "execution_count": 207,
   "id": "b060abbf",
   "metadata": {},
   "outputs": [
    {
     "data": {
      "text/plain": [
       "next_pymnt_d                  97.0\n",
       "mths_since_last_record        93.0\n",
       "mths_since_last_delinq        65.0\n",
       "desc                          33.0\n",
       "emp_title                     6.0 \n",
       "emp_length                    3.0 \n",
       "pub_rec_bankruptcies          2.0 \n",
       "last_pymnt_d                  0.0 \n",
       "chargeoff_within_12_mths      0.0 \n",
       "collections_12_mths_ex_med    0.0 \n",
       "dtype: float64"
      ]
     },
     "execution_count": 207,
     "metadata": {},
     "output_type": "execute_result"
    }
   ],
   "source": [
    "#lets the see percentage of missing values in the remaining columns, sorted and listed by top 10\n",
    "round( (loan_data.isnull().sum()/len(loan_data) * 100).sort_values(ascending=False),0).head(10)\n"
   ]
  },
  {
   "cell_type": "markdown",
   "id": "7354065b",
   "metadata": {},
   "source": [
    "#### 2.1.2 Dropping columns with more percentage of missing values"
   ]
  },
  {
   "cell_type": "code",
   "execution_count": 208,
   "id": "8b9f7255",
   "metadata": {},
   "outputs": [],
   "source": [
    "#lets drop the top 3 columns as they are not using considering the number of missing values.\n",
    "loan_data.drop([\"next_pymnt_d\", \"mths_since_last_record\", \"mths_since_last_delinq\"],axis=1,inplace=True)"
   ]
  },
  {
   "cell_type": "code",
   "execution_count": 209,
   "id": "1f00112a",
   "metadata": {},
   "outputs": [
    {
     "data": {
      "text/plain": [
       "Index(['id', 'member_id', 'loan_amnt', 'funded_amnt', 'funded_amnt_inv',\n",
       "       'term', 'int_rate', 'installment', 'grade', 'sub_grade', 'emp_title',\n",
       "       'emp_length', 'home_ownership', 'annual_inc', 'verification_status',\n",
       "       'issue_d', 'loan_status', 'pymnt_plan', 'url', 'desc', 'purpose',\n",
       "       'title', 'zip_code', 'addr_state', 'dti', 'delinq_2yrs',\n",
       "       'earliest_cr_line', 'inq_last_6mths', 'open_acc', 'pub_rec',\n",
       "       'revol_bal', 'revol_util', 'total_acc', 'initial_list_status',\n",
       "       'out_prncp', 'out_prncp_inv', 'total_pymnt', 'total_pymnt_inv',\n",
       "       'total_rec_prncp', 'total_rec_int', 'total_rec_late_fee', 'recoveries',\n",
       "       'collection_recovery_fee', 'last_pymnt_d', 'last_pymnt_amnt',\n",
       "       'last_credit_pull_d', 'collections_12_mths_ex_med', 'policy_code',\n",
       "       'application_type', 'acc_now_delinq', 'chargeoff_within_12_mths',\n",
       "       'delinq_amnt', 'pub_rec_bankruptcies', 'tax_liens'],\n",
       "      dtype='object')"
      ]
     },
     "execution_count": 209,
     "metadata": {},
     "output_type": "execute_result"
    }
   ],
   "source": [
    "#Listing the remaining column names\n",
    "loan_data.columns"
   ]
  },
  {
   "cell_type": "markdown",
   "id": "506c687f",
   "metadata": {},
   "source": [
    "#### 2.1.3 Dropping columns which have only `One Value` "
   ]
  },
  {
   "cell_type": "code",
   "execution_count": 210,
   "id": "455cb225",
   "metadata": {},
   "outputs": [
    {
     "name": "stdout",
     "output_type": "stream",
     "text": [
      "id                            39717\n",
      "member_id                     39717\n",
      "loan_amnt                     885  \n",
      "funded_amnt                   1041 \n",
      "funded_amnt_inv               8205 \n",
      "term                          2    \n",
      "int_rate                      371  \n",
      "installment                   15383\n",
      "grade                         7    \n",
      "sub_grade                     35   \n",
      "emp_title                     28820\n",
      "emp_length                    11   \n",
      "home_ownership                5    \n",
      "annual_inc                    5318 \n",
      "verification_status           3    \n",
      "issue_d                       55   \n",
      "loan_status                   3    \n",
      "pymnt_plan                    1    \n",
      "url                           39717\n",
      "desc                          26527\n",
      "purpose                       14   \n",
      "title                         19615\n",
      "zip_code                      823  \n",
      "addr_state                    50   \n",
      "dti                           2868 \n",
      "delinq_2yrs                   11   \n",
      "earliest_cr_line              526  \n",
      "inq_last_6mths                9    \n",
      "open_acc                      40   \n",
      "pub_rec                       5    \n",
      "revol_bal                     21711\n",
      "revol_util                    1089 \n",
      "total_acc                     82   \n",
      "initial_list_status           1    \n",
      "out_prncp                     1137 \n",
      "out_prncp_inv                 1138 \n",
      "total_pymnt                   37850\n",
      "total_pymnt_inv               37518\n",
      "total_rec_prncp               7976 \n",
      "total_rec_int                 35148\n",
      "total_rec_late_fee            1356 \n",
      "recoveries                    4040 \n",
      "collection_recovery_fee       2616 \n",
      "last_pymnt_d                  101  \n",
      "last_pymnt_amnt               34930\n",
      "last_credit_pull_d            106  \n",
      "collections_12_mths_ex_med    1    \n",
      "policy_code                   1    \n",
      "application_type              1    \n",
      "acc_now_delinq                1    \n",
      "chargeoff_within_12_mths      1    \n",
      "delinq_amnt                   1    \n",
      "pub_rec_bankruptcies          3    \n",
      "tax_liens                     1    \n",
      "dtype: int64\n",
      "(39717, 54)\n"
     ]
    }
   ],
   "source": [
    "print(loan_data.nunique())\n",
    "print(loan_data.shape)"
   ]
  },
  {
   "cell_type": "code",
   "execution_count": 211,
   "id": "5827073c",
   "metadata": {},
   "outputs": [],
   "source": [
    "#dropping columns with only one unique value\n",
    "\n",
    "to_drop  = loan_data.nunique()                            #stroring all columns unique count to to_drop \n",
    "to_drop  = to_drop.loc[to_drop.values==1].index           #getting column indices where unique count is 1\n",
    "loan_data.drop(to_drop, inplace=True, axis=1)             #dropping columns in the list to_drop\n"
   ]
  },
  {
   "cell_type": "code",
   "execution_count": 212,
   "id": "67319a91",
   "metadata": {},
   "outputs": [
    {
     "data": {
      "text/plain": [
       "(39717, 45)"
      ]
     },
     "execution_count": 212,
     "metadata": {},
     "output_type": "execute_result"
    }
   ],
   "source": [
    "loan_data.shape"
   ]
  },
  {
   "cell_type": "markdown",
   "id": "4987a6fe",
   "metadata": {},
   "source": [
    "#### 2.1.4 Dropping columns that are `text/descriptions`"
   ]
  },
  {
   "cell_type": "markdown",
   "id": "ca70453d",
   "metadata": {},
   "source": [
    "##### Lets observe `url` and `id` columns"
   ]
  },
  {
   "cell_type": "code",
   "execution_count": 213,
   "id": "5445294c",
   "metadata": {},
   "outputs": [
    {
     "data": {
      "text/html": [
       "<div>\n",
       "<style scoped>\n",
       "    .dataframe tbody tr th:only-of-type {\n",
       "        vertical-align: middle;\n",
       "    }\n",
       "\n",
       "    .dataframe tbody tr th {\n",
       "        vertical-align: top;\n",
       "    }\n",
       "\n",
       "    .dataframe thead th {\n",
       "        text-align: right;\n",
       "    }\n",
       "</style>\n",
       "<table border=\"1\" class=\"dataframe\">\n",
       "  <thead>\n",
       "    <tr style=\"text-align: right;\">\n",
       "      <th></th>\n",
       "      <th>id</th>\n",
       "      <th>url</th>\n",
       "    </tr>\n",
       "  </thead>\n",
       "  <tbody>\n",
       "    <tr>\n",
       "      <th>1</th>\n",
       "      <td>1077430</td>\n",
       "      <td>https://lendingclub.com/browse/loanDetail.action?loan_id=1077430</td>\n",
       "    </tr>\n",
       "    <tr>\n",
       "      <th>2</th>\n",
       "      <td>1077175</td>\n",
       "      <td>https://lendingclub.com/browse/loanDetail.action?loan_id=1077175</td>\n",
       "    </tr>\n",
       "    <tr>\n",
       "      <th>3</th>\n",
       "      <td>1076863</td>\n",
       "      <td>https://lendingclub.com/browse/loanDetail.action?loan_id=1076863</td>\n",
       "    </tr>\n",
       "    <tr>\n",
       "      <th>4</th>\n",
       "      <td>1075358</td>\n",
       "      <td>https://lendingclub.com/browse/loanDetail.action?loan_id=1075358</td>\n",
       "    </tr>\n",
       "    <tr>\n",
       "      <th>5</th>\n",
       "      <td>1075269</td>\n",
       "      <td>https://lendingclub.com/browse/loanDetail.action?loan_id=1075269</td>\n",
       "    </tr>\n",
       "  </tbody>\n",
       "</table>\n",
       "</div>"
      ],
      "text/plain": [
       "        id                                                               url\n",
       "1  1077430  https://lendingclub.com/browse/loanDetail.action?loan_id=1077430\n",
       "2  1077175  https://lendingclub.com/browse/loanDetail.action?loan_id=1077175\n",
       "3  1076863  https://lendingclub.com/browse/loanDetail.action?loan_id=1076863\n",
       "4  1075358  https://lendingclub.com/browse/loanDetail.action?loan_id=1075358\n",
       "5  1075269  https://lendingclub.com/browse/loanDetail.action?loan_id=1075269"
      ]
     },
     "execution_count": 213,
     "metadata": {},
     "output_type": "execute_result"
    }
   ],
   "source": [
    "loan_data.loc[[1,2,3,4,5],['id','url']]"
   ]
  },
  {
   "cell_type": "markdown",
   "id": "1127fbdc",
   "metadata": {},
   "source": [
    "Here we can conclude that either `url` or `id` column is sufficient.\n",
    "Because the url column is concatenation of \"https://lendingclub.com/browse/loanDetail.action?loan_id\" and \"id\" \n",
    "\n",
    "so let's drop url column."
   ]
  },
  {
   "cell_type": "code",
   "execution_count": 214,
   "id": "91bf4b58",
   "metadata": {},
   "outputs": [],
   "source": [
    "loan_data.drop('url', inplace =True, axis=1)    #dropping url column "
   ]
  },
  {
   "cell_type": "markdown",
   "id": "84726f7b",
   "metadata": {},
   "source": [
    "#### 2.1.5  We can drop other columns that are not useful for our analysis \n",
    "   `member_id` we already have `id` column which is unique, we dont need both\n",
    "\n",
    "   `desc`      Irrelevant for our analysis\\n\n",
    "\n",
    "   `emp_title` Not required\n",
    "\n",
    "   Let's go on and drop other `Costumer_Behavioural & Paymnet` columns that dont contribute to analysis\n"
   ]
  },
  {
   "cell_type": "code",
   "execution_count": 215,
   "id": "6b0d12a0",
   "metadata": {},
   "outputs": [],
   "source": [
    "#dropping all unnecessary columns\n",
    "loan_data.drop(['revol_bal','out_prncp','out_prncp_inv','total_pymnt','total_pymnt_inv','total_rec_prncp',\n",
    "       'total_rec_int', 'total_rec_late_fee', 'recoveries',\n",
    "       'collection_recovery_fee','earliest_cr_line', 'last_pymnt_d', 'last_pymnt_amnt', 'last_credit_pull_d',\n",
    "        'member_id','desc','funded_amnt','zip_code',\n",
    "      'emp_title','title'],inplace=True, axis=1)"
   ]
  },
  {
   "cell_type": "code",
   "execution_count": 216,
   "id": "e3d87e63",
   "metadata": {
    "scrolled": true
   },
   "outputs": [
    {
     "data": {
      "text/plain": [
       "(39717, 24)"
      ]
     },
     "execution_count": 216,
     "metadata": {},
     "output_type": "execute_result"
    }
   ],
   "source": [
    "loan_data.shape"
   ]
  },
  {
   "cell_type": "markdown",
   "id": "120117e8",
   "metadata": {},
   "source": [
    "#### Columns left in our Loan Table"
   ]
  },
  {
   "cell_type": "code",
   "execution_count": 217,
   "id": "dc64b07c",
   "metadata": {},
   "outputs": [
    {
     "data": {
      "text/plain": [
       "Index(['id', 'loan_amnt', 'funded_amnt_inv', 'term', 'int_rate', 'installment',\n",
       "       'grade', 'sub_grade', 'emp_length', 'home_ownership', 'annual_inc',\n",
       "       'verification_status', 'issue_d', 'loan_status', 'purpose',\n",
       "       'addr_state', 'dti', 'delinq_2yrs', 'inq_last_6mths', 'open_acc',\n",
       "       'pub_rec', 'revol_util', 'total_acc', 'pub_rec_bankruptcies'],\n",
       "      dtype='object')"
      ]
     },
     "execution_count": 217,
     "metadata": {},
     "output_type": "execute_result"
    }
   ],
   "source": [
    "loan_data.columns"
   ]
  },
  {
   "cell_type": "markdown",
   "id": "cd64af6b",
   "metadata": {},
   "source": [
    "#### 2.1.6 Fixing rows"
   ]
  },
  {
   "cell_type": "code",
   "execution_count": 218,
   "id": "f6111822",
   "metadata": {},
   "outputs": [
    {
     "data": {
      "text/plain": [
       "0"
      ]
     },
     "execution_count": 218,
     "metadata": {},
     "output_type": "execute_result"
    }
   ],
   "source": [
    "#Lets check and delete if there are no null rows\n",
    "loan_data.isnull().all(axis=1).sum()"
   ]
  },
  {
   "cell_type": "code",
   "execution_count": 219,
   "id": "1f8a43c5",
   "metadata": {},
   "outputs": [
    {
     "name": "stdout",
     "output_type": "stream",
     "text": [
      "['Fully Paid' 'Charged Off' 'Current']\n"
     ]
    },
    {
     "data": {
      "text/plain": [
       "Fully Paid     32950\n",
       "Charged Off    5627 \n",
       "Current        1140 \n",
       "Name: loan_status, dtype: int64"
      ]
     },
     "execution_count": 219,
     "metadata": {},
     "output_type": "execute_result"
    }
   ],
   "source": [
    "# Here there are 3 types of values for loan_status\n",
    "print(loan_data.loan_status.unique())\n",
    "loan_data.loan_status.value_counts()"
   ]
  },
  {
   "cell_type": "markdown",
   "id": "9c5190fc",
   "metadata": {},
   "source": [
    "#### We can't get any insights from the applicants who's loan status is 'current'\n",
    "so let's drop the rows where the loan status is `current`"
   ]
  },
  {
   "cell_type": "code",
   "execution_count": 220,
   "id": "015bbb72",
   "metadata": {},
   "outputs": [],
   "source": [
    "#dropping the rows where loan_status is current \n",
    "loan_data.drop(loan_data[loan_data.loan_status =='Current'].index, inplace=True)\n"
   ]
  },
  {
   "cell_type": "code",
   "execution_count": 221,
   "id": "6d6b087e",
   "metadata": {},
   "outputs": [
    {
     "name": "stdout",
     "output_type": "stream",
     "text": [
      "(38577, 24)\n"
     ]
    }
   ],
   "source": [
    "print(loan_data.shape) #shape after removing LoanStatus current rows"
   ]
  },
  {
   "cell_type": "code",
   "execution_count": 222,
   "id": "f1d301b9",
   "metadata": {},
   "outputs": [],
   "source": [
    "safedata=loan_data.copy(deep= True)"
   ]
  },
  {
   "cell_type": "markdown",
   "id": "81e91529",
   "metadata": {},
   "source": [
    "#### 2.2 Standardising values"
   ]
  },
  {
   "cell_type": "code",
   "execution_count": 223,
   "id": "005f8175",
   "metadata": {},
   "outputs": [
    {
     "data": {
      "text/plain": [
       "id                      int64  \n",
       "loan_amnt               int64  \n",
       "funded_amnt_inv         float64\n",
       "term                    object \n",
       "int_rate                object \n",
       "installment             float64\n",
       "grade                   object \n",
       "sub_grade               object \n",
       "emp_length              object \n",
       "home_ownership          object \n",
       "annual_inc              float64\n",
       "verification_status     object \n",
       "issue_d                 object \n",
       "loan_status             object \n",
       "purpose                 object \n",
       "addr_state              object \n",
       "dti                     float64\n",
       "delinq_2yrs             int64  \n",
       "inq_last_6mths          int64  \n",
       "open_acc                int64  \n",
       "pub_rec                 int64  \n",
       "revol_util              object \n",
       "total_acc               int64  \n",
       "pub_rec_bankruptcies    float64\n",
       "dtype: object"
      ]
     },
     "execution_count": 223,
     "metadata": {},
     "output_type": "execute_result"
    }
   ],
   "source": [
    "#data types of the values\n",
    "loan_data.dtypes"
   ]
  },
  {
   "cell_type": "code",
   "execution_count": 226,
   "id": "de0ca2ca",
   "metadata": {},
   "outputs": [
    {
     "data": {
      "text/html": [
       "<div>\n",
       "<style scoped>\n",
       "    .dataframe tbody tr th:only-of-type {\n",
       "        vertical-align: middle;\n",
       "    }\n",
       "\n",
       "    .dataframe tbody tr th {\n",
       "        vertical-align: top;\n",
       "    }\n",
       "\n",
       "    .dataframe thead th {\n",
       "        text-align: right;\n",
       "    }\n",
       "</style>\n",
       "<table border=\"1\" class=\"dataframe\">\n",
       "  <thead>\n",
       "    <tr style=\"text-align: right;\">\n",
       "      <th></th>\n",
       "      <th>id</th>\n",
       "      <th>loan_amnt</th>\n",
       "      <th>funded_amnt_inv</th>\n",
       "      <th>term</th>\n",
       "      <th>int_rate</th>\n",
       "      <th>installment</th>\n",
       "      <th>grade</th>\n",
       "      <th>sub_grade</th>\n",
       "      <th>emp_length</th>\n",
       "      <th>home_ownership</th>\n",
       "      <th>...</th>\n",
       "      <th>purpose</th>\n",
       "      <th>addr_state</th>\n",
       "      <th>dti</th>\n",
       "      <th>delinq_2yrs</th>\n",
       "      <th>inq_last_6mths</th>\n",
       "      <th>open_acc</th>\n",
       "      <th>pub_rec</th>\n",
       "      <th>revol_util</th>\n",
       "      <th>total_acc</th>\n",
       "      <th>pub_rec_bankruptcies</th>\n",
       "    </tr>\n",
       "  </thead>\n",
       "  <tbody>\n",
       "    <tr>\n",
       "      <th>0</th>\n",
       "      <td>1077501</td>\n",
       "      <td>5000</td>\n",
       "      <td>4975.0</td>\n",
       "      <td>36 months</td>\n",
       "      <td>10.65%</td>\n",
       "      <td>162.87</td>\n",
       "      <td>B</td>\n",
       "      <td>B2</td>\n",
       "      <td>10+ years</td>\n",
       "      <td>RENT</td>\n",
       "      <td>...</td>\n",
       "      <td>credit_card</td>\n",
       "      <td>AZ</td>\n",
       "      <td>27.65</td>\n",
       "      <td>0</td>\n",
       "      <td>1</td>\n",
       "      <td>3</td>\n",
       "      <td>0</td>\n",
       "      <td>83.70%</td>\n",
       "      <td>9</td>\n",
       "      <td>0.0</td>\n",
       "    </tr>\n",
       "    <tr>\n",
       "      <th>1</th>\n",
       "      <td>1077430</td>\n",
       "      <td>2500</td>\n",
       "      <td>2500.0</td>\n",
       "      <td>60 months</td>\n",
       "      <td>15.27%</td>\n",
       "      <td>59.83</td>\n",
       "      <td>C</td>\n",
       "      <td>C4</td>\n",
       "      <td>&lt; 1 year</td>\n",
       "      <td>RENT</td>\n",
       "      <td>...</td>\n",
       "      <td>car</td>\n",
       "      <td>GA</td>\n",
       "      <td>1.00</td>\n",
       "      <td>0</td>\n",
       "      <td>5</td>\n",
       "      <td>3</td>\n",
       "      <td>0</td>\n",
       "      <td>9.40%</td>\n",
       "      <td>4</td>\n",
       "      <td>0.0</td>\n",
       "    </tr>\n",
       "    <tr>\n",
       "      <th>2</th>\n",
       "      <td>1077175</td>\n",
       "      <td>2400</td>\n",
       "      <td>2400.0</td>\n",
       "      <td>36 months</td>\n",
       "      <td>15.96%</td>\n",
       "      <td>84.33</td>\n",
       "      <td>C</td>\n",
       "      <td>C5</td>\n",
       "      <td>10+ years</td>\n",
       "      <td>RENT</td>\n",
       "      <td>...</td>\n",
       "      <td>small_business</td>\n",
       "      <td>IL</td>\n",
       "      <td>8.72</td>\n",
       "      <td>0</td>\n",
       "      <td>2</td>\n",
       "      <td>2</td>\n",
       "      <td>0</td>\n",
       "      <td>98.50%</td>\n",
       "      <td>10</td>\n",
       "      <td>0.0</td>\n",
       "    </tr>\n",
       "    <tr>\n",
       "      <th>3</th>\n",
       "      <td>1076863</td>\n",
       "      <td>10000</td>\n",
       "      <td>10000.0</td>\n",
       "      <td>36 months</td>\n",
       "      <td>13.49%</td>\n",
       "      <td>339.31</td>\n",
       "      <td>C</td>\n",
       "      <td>C1</td>\n",
       "      <td>10+ years</td>\n",
       "      <td>RENT</td>\n",
       "      <td>...</td>\n",
       "      <td>other</td>\n",
       "      <td>CA</td>\n",
       "      <td>20.00</td>\n",
       "      <td>0</td>\n",
       "      <td>1</td>\n",
       "      <td>10</td>\n",
       "      <td>0</td>\n",
       "      <td>21%</td>\n",
       "      <td>37</td>\n",
       "      <td>0.0</td>\n",
       "    </tr>\n",
       "    <tr>\n",
       "      <th>5</th>\n",
       "      <td>1075269</td>\n",
       "      <td>5000</td>\n",
       "      <td>5000.0</td>\n",
       "      <td>36 months</td>\n",
       "      <td>7.90%</td>\n",
       "      <td>156.46</td>\n",
       "      <td>A</td>\n",
       "      <td>A4</td>\n",
       "      <td>3 years</td>\n",
       "      <td>RENT</td>\n",
       "      <td>...</td>\n",
       "      <td>wedding</td>\n",
       "      <td>AZ</td>\n",
       "      <td>11.20</td>\n",
       "      <td>0</td>\n",
       "      <td>3</td>\n",
       "      <td>9</td>\n",
       "      <td>0</td>\n",
       "      <td>28.30%</td>\n",
       "      <td>12</td>\n",
       "      <td>0.0</td>\n",
       "    </tr>\n",
       "  </tbody>\n",
       "</table>\n",
       "<p>5 rows × 24 columns</p>\n",
       "</div>"
      ],
      "text/plain": [
       "        id  loan_amnt  funded_amnt_inv        term int_rate  installment  \\\n",
       "0  1077501  5000       4975.0            36 months  10.65%   162.87        \n",
       "1  1077430  2500       2500.0            60 months  15.27%   59.83         \n",
       "2  1077175  2400       2400.0            36 months  15.96%   84.33         \n",
       "3  1076863  10000      10000.0           36 months  13.49%   339.31        \n",
       "5  1075269  5000       5000.0            36 months  7.90%    156.46        \n",
       "\n",
       "  grade sub_grade emp_length home_ownership  ...         purpose addr_state  \\\n",
       "0  B     B2        10+ years  RENT           ...  credit_card     AZ          \n",
       "1  C     C4        < 1 year   RENT           ...  car             GA          \n",
       "2  C     C5        10+ years  RENT           ...  small_business  IL          \n",
       "3  C     C1        10+ years  RENT           ...  other           CA          \n",
       "5  A     A4        3 years    RENT           ...  wedding         AZ          \n",
       "\n",
       "     dti delinq_2yrs inq_last_6mths open_acc  pub_rec  revol_util  total_acc  \\\n",
       "0  27.65  0           1              3        0        83.70%      9           \n",
       "1  1.00   0           5              3        0        9.40%       4           \n",
       "2  8.72   0           2              2        0        98.50%      10          \n",
       "3  20.00  0           1              10       0        21%         37          \n",
       "5  11.20  0           3              9        0        28.30%      12          \n",
       "\n",
       "   pub_rec_bankruptcies  \n",
       "0  0.0                   \n",
       "1  0.0                   \n",
       "2  0.0                   \n",
       "3  0.0                   \n",
       "5  0.0                   \n",
       "\n",
       "[5 rows x 24 columns]"
      ]
     },
     "execution_count": 226,
     "metadata": {},
     "output_type": "execute_result"
    }
   ],
   "source": [
    "loan_data.head()"
   ]
  },
  {
   "cell_type": "markdown",
   "id": "f8659073",
   "metadata": {},
   "source": [
    "#### Lets remove `%` symbol from the `int_rate` and `revol util` column names"
   ]
  },
  {
   "cell_type": "code",
   "execution_count": null,
   "id": "85a01b96",
   "metadata": {},
   "outputs": [],
   "source": []
  }
 ],
 "metadata": {
  "kernelspec": {
   "display_name": "Python 3 (ipykernel)",
   "language": "python",
   "name": "python3"
  },
  "language_info": {
   "codemirror_mode": {
    "name": "ipython",
    "version": 3
   },
   "file_extension": ".py",
   "mimetype": "text/x-python",
   "name": "python",
   "nbconvert_exporter": "python",
   "pygments_lexer": "ipython3",
   "version": "3.9.7"
  }
 },
 "nbformat": 4,
 "nbformat_minor": 5
}
